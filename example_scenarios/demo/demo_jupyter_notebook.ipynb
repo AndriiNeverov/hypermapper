{
 "cells": [
  {
   "cell_type": "markdown",
   "metadata": {},
   "source": [
    "# Demo HyperMapper: \n",
    "# a Practical Design Space Exploration Framework \n",
    "\n",
    "You are looking for a parameter setting that minimizes some performance metric of your algorithm (such as runtime, error, or cost). \n",
    "\n",
    "To use HyperMapper for this purpose you need to tell it about your parameters and how to evaluate your algorithm's performance. \n",
    "\n",
    "We will show how to do this on a running example using a simple 1-dimensional version of the Branin function (https://www.sfu.ca/~ssurjano/branin.html). \n",
    "\n",
    "We look for minimizing the value of this function given the parameter x1."
   ]
  },
  {
   "cell_type": "markdown",
   "metadata": {},
   "source": [
    "### Example 1: The Branin Black-box Function\n",
    "Consider the 1-dimensional Branin black-box function evaluation (which depends on the input variables x1), this is the objective we want to minimize:"
   ]
  },
  {
   "cell_type": "code",
   "execution_count": 1,
   "metadata": {},
   "outputs": [],
   "source": [
    "import math\n",
    "def branin_function(X):\n",
    "    x1 = X['x1']\n",
    "    a = 1.0\n",
    "    b = 5.1 / (4.0 * math.pi * math.pi)\n",
    "    c = 5.0 / math.pi\n",
    "    r = 6.0\n",
    "    s = 10.0\n",
    "    t = 1.0 / (8.0 * math.pi)\n",
    "    x2 = 2.275\n",
    "\n",
    "    value = a * (x2 - b * x1 * x1 + c * x1 - r) ** 2 + s * (1 - t) * math.cos(x1) + s\n",
    "\n",
    "    return value"
   ]
  },
  {
   "cell_type": "markdown",
   "metadata": {},
   "source": [
    "We can plot the 1D Branin function and visualize the optimum (the minimum):"
   ]
  },
  {
   "cell_type": "code",
   "execution_count": 2,
   "metadata": {},
   "outputs": [
    {
     "data": {
      "image/png": "[encoded data removed]",
      "text/plain": [
       "<Figure size 864x432 with 1 Axes>"
      ]
     },
     "metadata": {
      "needs_background": "light"
     },
     "output_type": "display_data"
    },
    {
     "name": "stdout",
     "output_type": "stream",
     "text": [
      "The 1d Branin function has one global optimum at x1 = π\n",
      "(x, y) at minimum is: (3.141592653589793,0.39788735772973816)\n"
     ]
    }
   ],
   "source": [
    "import matplotlib\n",
    "import matplotlib.pyplot as plt\n",
    "import pandas as pd\n",
    "import numpy as np\n",
    "%matplotlib inline\n",
    "plt.rcParams['figure.figsize'] = [12, 6]\n",
    "plt.rcParams['font.size'] = 18\n",
    "point_size = matplotlib.rcParams['lines.markersize']**2.8\n",
    "point_size_optimum = matplotlib.rcParams['lines.markersize']**2\n",
    "\n",
    "optimum = math.pi\n",
    "value_at_optimum=branin_function({'x1': optimum})\n",
    "\n",
    "# Sample 1000 (x,y) pairs from the function to plot its curve\n",
    "branin_line_xs = np.linspace(-5, 10, 1000)\n",
    "branin_line_ys = []\n",
    "for x in branin_line_xs:\n",
    "    y = branin_function({'x1': x})\n",
    "    branin_line_ys.append(y)\n",
    "plt.plot(branin_line_xs, branin_line_ys, label=\"1D Branin Function\")\n",
    "\n",
    "# Mark the known optimum on the curve\n",
    "plt.scatter(optimum, value_at_optimum, s=point_size_optimum, marker='o', color=\"black\", label=\"Minimum\")\n",
    "\n",
    "plt.legend()\n",
    "plt.xlabel(\"x1\")\n",
    "plt.ylabel(\"value\")\n",
    "plt.show()\n",
    "print(\"The 1d Branin function has one global optimum at x1 = \\u03C0\", flush=True)\n",
    "print(\"(x, y) at minimum is: (\"+str(optimum)+\",\"+str(value_at_optimum)+\")\", flush=True)"
   ]
  },
  {
   "cell_type": "markdown",
   "metadata": {},
   "source": [
    "### Setup HyperMapper to Run on Branin"
   ]
  },
  {
   "cell_type": "markdown",
   "metadata": {},
   "source": [
    "The inputs to HyperMapper specify an instance of the software configuration problem. In this example, we are showing how to optimize the Branin function value with a single dimension. The following is what needs to be specified as a json syntax to run Branin:"
   ]
  },
  {
   "cell_type": "raw",
   "metadata": {},
   "source": [
    "{\n",
    "    \"application_name\": \"1d_branin\",\n",
    "    \"optimization_objectives\": [\"value\"],\n",
    "    \"design_of_experiment\": { \"number_of_samples\": 3 }\n",
    "    \"optimization_iterations\": 7,\n",
    "    \"input_parameters\" : {\n",
    "        \"x1\": {\n",
    "            \"parameter_type\" : \"real\",\n",
    "            \"values\" : [-5, 10]\n",
    "        }\n",
    "    }\n",
    "}\n"
   ]
  },
  {
   "cell_type": "markdown",
   "metadata": {},
   "source": [
    "We create the json in python and then dump it on a file: "
   ]
  },
  {
   "cell_type": "code",
   "execution_count": 3,
   "metadata": {},
   "outputs": [],
   "source": [
    "import json\n",
    "scenario = {}\n",
    "scenario[\"application_name\"] = \"1d_branin\"\n",
    "scenario[\"optimization_objectives\"] = [\"value\"]\n",
    "\n",
    "number_of_RS = 5\n",
    "scenario[\"design_of_experiment\"] = {}\n",
    "scenario[\"design_of_experiment\"][\"number_of_samples\"] = number_of_RS\n",
    "\n",
    "scenario[\"optimization_iterations\"] = 15\n",
    "\n",
    "scenario[\"input_parameters\"] = {}\n",
    "x1 = {}\n",
    "x1[\"parameter_type\"] = \"real\"\n",
    "x1[\"values\"] = [-5, 10]\n",
    "\n",
    "scenario[\"input_parameters\"][\"x1\"] = x1\n",
    "\n",
    "with open(\"example_1d_branin_scenario.json\", \"w\") as scenario_file:\n",
    "    json.dump(scenario, scenario_file, indent=4)\n"
   ]
  },
  {
   "cell_type": "markdown",
   "metadata": {},
   "source": [
    "To double check, print the json generated: "
   ]
  },
  {
   "cell_type": "code",
   "execution_count": 4,
   "metadata": {},
   "outputs": [
    {
     "name": "stdout",
     "output_type": "stream",
     "text": [
      "{\n",
      "    \"application_name\": \"1d_branin\",\n",
      "    \"optimization_objectives\": [\n",
      "        \"value\"\n",
      "    ],\n",
      "    \"design_of_experiment\": {\n",
      "        \"number_of_samples\": 5\n",
      "    },\n",
      "    \"optimization_iterations\": 15,\n",
      "    \"input_parameters\": {\n",
      "        \"x1\": {\n",
      "            \"parameter_type\": \"real\",\n",
      "            \"values\": [\n",
      "                -5,\n",
      "                10\n",
      "            ]\n",
      "        }\n",
      "    }\n",
      "}\n"
     ]
    }
   ],
   "source": [
    "f = open(\"example_1d_branin_scenario.json\", \"r\")\n",
    "text = f.read()\n",
    "print(text, flush=True)\n",
    "f.close()"
   ]
  },
  {
   "cell_type": "markdown",
   "metadata": {},
   "source": [
    "### Run HyperMapper\n",
    "You are all set to run Branin and HyperMapper together!\n",
    "\n",
    "To optimize the branin function, call HyperMapper's optimize method with the json file and the branin function as parameters:"
   ]
  },
  {
   "cell_type": "code",
   "execution_count": 5,
   "metadata": {},
   "outputs": [
    {
     "name": "stderr",
     "output_type": "stream",
     "text": [
      "/home/leonard/IdeaProjects/hypermapper_dev/scripts/hypermapper.py:22: UserWarning: Found hypermapper in PYTHONPATH. Usage is deprecated and might break things. Please remove all hypermapper references from PYTHONPATH. Trying to importwithout hypermapper in PYTHONPATH...\n",
      "  warnings.warn(\"Found hypermapper in PYTHONPATH. Usage is deprecated and might break things. \"\n"
     ]
    },
    {
     "name": "stdout",
     "output_type": "stream",
     "text": [
      "Design of experiment phase, number of new doe samples = 5 .......\n",
      "x1,value,Timestamp\n",
      "7.906951438417174,10.104241208051862,1\n",
      "6.784187093101485,19.69131893981234,1\n",
      "1.9301553746685993,7.909909152301747,1\n",
      "2.5088920151612015,2.5537028509375066,1\n",
      "3.4041725999395904,0.7653784991043686,1\n",
      "\n",
      "\n",
      "End of doe/resume phase, the number of evaluated configurations is: 5\n",
      "\n",
      "Starting optimization iteration 1\n",
      "x1,value,Timestamp\n",
      "1.1025074445756182,18.859549740653076,24\n",
      "\n",
      "Starting optimization iteration 2\n",
      "x1,value,Timestamp\n",
      "4.7810539677621975,11.526172713402664,1721\n",
      "\n",
      "Starting optimization iteration 3\n",
      "x1,value,Timestamp\n",
      "1.849517139322245,8.85468441759785,3237\n",
      "\n",
      "Starting optimization iteration 4\n",
      "x1,value,Timestamp\n",
      "1.7772568174154548,9.733201325621847,4710\n",
      "\n",
      "Starting optimization iteration 5\n",
      "x1,value,Timestamp\n",
      "3.4786224537550243,0.9996766382232138,6203\n",
      "\n",
      "Starting optimization iteration 6\n",
      "x1,value,Timestamp\n",
      "3.7046434144404756,2.038679063879325,7714\n",
      "\n",
      "Starting optimization iteration 7\n",
      "x1,value,Timestamp\n",
      "3.9860137906251722,3.9434470013180585,9196\n",
      "\n",
      "Starting optimization iteration 8\n",
      "x1,value,Timestamp\n",
      "2.4281682422042508,3.1266358712798024,10719\n",
      "\n",
      "Starting optimization iteration 9\n",
      "x1,value,Timestamp\n",
      "2.2632332809784366,4.485567681812131,12267\n",
      "\n",
      "Starting optimization iteration 10\n",
      "x1,value,Timestamp\n",
      "-4.630513613510656,201.442421320184,12287\n",
      "\n",
      "Starting optimization iteration 11\n",
      "x1,value,Timestamp\n",
      "0.8074372680599486,23.009756668225187,13835\n",
      "\n",
      "Starting optimization iteration 12\n",
      "x1,value,Timestamp\n",
      "-0.31360623495587436,37.084477234453985,15352\n",
      "\n",
      "Starting optimization iteration 13\n",
      "x1,value,Timestamp\n",
      "-1.5726755124014211,52.851763588569334,16883\n",
      "\n",
      "Starting optimization iteration 14\n",
      "x1,value,Timestamp\n",
      "-2.0802285750748584,62.998414921776636,18453\n",
      "\n",
      "Starting optimization iteration 15\n",
      "x1,value,Timestamp\n",
      "3.242872373880701,0.4531233930307348,18478\n",
      "\n",
      "End of Bayesian Optimization\n",
      "End of HyperMapper\n"
     ]
    }
   ],
   "source": [
    "import sys\n",
    "import os\n",
    "from collections import OrderedDict\n",
    "os.chdir('../..') \n",
    "\n",
    "# ensure backward compatibility\n",
    "try:\n",
    "    from hypermapper import optimizer  # noqa\n",
    "except ImportError:\n",
    "    if os.getenv('HYPERMAPPER_HOME'):  # noqa\n",
    "        warnings.warn(\"Found environment variable 'HYPERMAPPER_HOME'. Support might be discontinued in the future.\",\n",
    "                      DeprecationWarning, 2)  # noqa\n",
    "        sys.path.append(os.environ['HYPERMAPPER_HOME'])  # noqa\n",
    "    ppath = os.getenv('PYTHONPATH')\n",
    "    if ppath:\n",
    "        path_items = ppath.split(':')\n",
    "\n",
    "        scripts_path = ['hypermapper/scripts', 'hypermapper_dev/scripts']\n",
    "\n",
    "        if os.getenv('HYPERMAPPER_HOME'):\n",
    "            scripts_path.append(os.path.join(os.getenv('HYPERMAPPER_HOME'), 'scripts'))\n",
    "\n",
    "        truncated_items = [p for p in sys.path if len([q for q in scripts_path if q in p]) == 0]\n",
    "        if len(truncated_items) < len(sys.path):\n",
    "            warnings.warn(\"Found hypermapper in PYTHONPATH. Usage is deprecated and might break things. \"\n",
    "                          \"Please remove all hypermapper references from PYTHONPATH. Trying to import\"\n",
    "                          \"without hypermapper in PYTHONPATH...\")\n",
    "            sys.path = truncated_items\n",
    "\n",
    "    sys.path.append('.')  # noqa\n",
    "    sys.path = list(OrderedDict.fromkeys(sys.path))\n",
    "\n",
    "    from hypermapper import optimizer  # noqa\n",
    "\n",
    "stdout = sys.stdout # Jupyter uses a special stdout and HyperMapper logging overwrites it. Save stdout to restore later\n",
    "optimizer.optimize(\"example_scenarios/demo/example_1d_branin_scenario.json\", branin_function)\n",
    "sys.stdout = stdout"
   ]
  },
  {
   "cell_type": "markdown",
   "metadata": {},
   "source": [
    "The result of this script is a csv file called \"branin_output_samples.csv\". You can find all the samples explored by HyperMapper during optimization in this file."
   ]
  },
  {
   "cell_type": "markdown",
   "metadata": {},
   "source": [
    "### Visualize Results\n",
    "We can visualize the optimization process with a scatterplot of the points explored during optimization. The code below plots the points explored by HyperMapper during optimization. "
   ]
  },
  {
   "cell_type": "code",
   "execution_count": 6,
   "metadata": {},
   "outputs": [
    {
     "name": "stderr",
     "output_type": "stream",
     "text": [
      " <ipython-input-6-815e36845e42>:23: UserWarning:Matplotlib is currently using agg, which is a non-GUI backend, so cannot show the figure.\n"
     ]
    },
    {
     "data": {
      "image/png": "[encoded data removed]",
      "text/plain": [
       "<Figure size 864x432 with 1 Axes>"
      ]
     },
     "metadata": {
      "needs_background": "light"
     },
     "output_type": "display_data"
    }
   ],
   "source": [
    "cmap = plt.get_cmap('winter')\n",
    "plt.plot(branin_line_xs, branin_line_ys, label=\"1D Branin Function\")\n",
    "\n",
    "# Load the points evaluated by HyperMapper during optimization\n",
    "sampled_points = pd.read_csv(\"1d_branin_output_samples.csv\", usecols=['x1', 'value'])\n",
    "x_points = sampled_points['x1'].values\n",
    "y_points = sampled_points['value'].values\n",
    "\n",
    "# Split between DoE and BO\n",
    "doe_x = x_points[:number_of_RS]\n",
    "doe_y = y_points[:number_of_RS]\n",
    "bo_x = x_points[number_of_RS:]\n",
    "bo_y = y_points[number_of_RS:]\n",
    "bo_iterations = list(range(len(bo_x)))\n",
    "\n",
    "plt.scatter(doe_x, doe_y, s=point_size, marker='x', color=\"red\", label=\"Initial Random Sampling\")\n",
    "plt.scatter(optimum, value_at_optimum, s=point_size_optimum, marker='o', color=\"black\", label=\"Minimum\")\n",
    "plt.scatter(bo_x, bo_y, s=point_size, marker='x', c=bo_iterations, cmap=cmap, label=\"Bayesian Otimization\")\n",
    "\n",
    "plt.legend()\n",
    "plt.xlabel(\"x1\")\n",
    "plt.ylabel(\"value\")\n",
    "plt.show()"
   ]
  },
  {
   "cell_type": "markdown",
   "metadata": {},
   "source": [
    "Blue points show points explored during optimization, with brighter points denoting points explored in later iterations. "
   ]
  },
  {
   "cell_type": "markdown",
   "metadata": {},
   "source": [
    "To see how far we land from the true minimum, we visualize the simple regret $R$:\n",
    "\n",
    "$R = \\min_{i=1,...,n} f(x_i) - f(x^{*})$\n",
    "\n",
    "Difference between:\n",
    "- the best value found by the HyperMapper $\\min_{i=1,...,n} f(x_i)$ also called the incumbent, and\n",
    "- the true minimum value: $f(x^{∗})$ "
   ]
  },
  {
   "cell_type": "code",
   "execution_count": 7,
   "metadata": {},
   "outputs": [
    {
     "name": "stderr",
     "output_type": "stream",
     "text": [
      "No handles with labels found to put in legend.\n",
      " <ipython-input-7-43d5ce04151a>:13: UserWarning:Matplotlib is currently using agg, which is a non-GUI backend, so cannot show the figure.\n"
     ]
    },
    {
     "data": {
      "image/png": "[encoded data removed]",
      "text/plain": [
       "<Figure size 864x432 with 1 Axes>"
      ]
     },
     "metadata": {
      "needs_background": "light"
     },
     "output_type": "display_data"
    }
   ],
   "source": [
    "evaluation_counts = list(range(1, len(y_points)+1))\n",
    "simple_regret = []\n",
    "for x in evaluation_counts:\n",
    "    incumbent = min(y_points[:x]) # find the incumbent after x evaluations\n",
    "    simple_regret.append(incumbent - value_at_optimum)\n",
    "\n",
    "plt.plot(evaluation_counts, simple_regret)\n",
    "\n",
    "plt.legend()\n",
    "plt.xlabel(\"Number of Evaluations\")\n",
    "plt.ylabel(\"Simple Regret\")\n",
    "plt.xticks(evaluation_counts)\n",
    "plt.show()"
   ]
  },
  {
   "cell_type": "markdown",
   "metadata": {},
   "source": [
    "### Example 2: Ordinal Input\n",
    "\n",
    "In this example, we are showing how to optimize the Branin function with ordinal inputs. We use the same branin function we defined in Example 1, but change the optimization configuration.\n",
    "\n",
    "The optimum in this case is at $x_1 = 3$"
   ]
  },
  {
   "cell_type": "markdown",
   "metadata": {},
   "source": [
    "### Setup HyperMapper to Run on Branin with Ordinal Variables"
   ]
  },
  {
   "cell_type": "markdown",
   "metadata": {},
   "source": [
    "We create a json for the new configuration in python and dump it on a file."
   ]
  },
  {
   "cell_type": "code",
   "execution_count": 8,
   "metadata": {},
   "outputs": [],
   "source": [
    "scenario = {}\n",
    "scenario[\"application_name\"] = \"1d_branin\"\n",
    "scenario[\"optimization_objectives\"] = [\"value\"]\n",
    "\n",
    "number_of_RS = 3\n",
    "scenario[\"design_of_experiment\"] = {}\n",
    "scenario[\"design_of_experiment\"][\"number_of_samples\"] = number_of_RS\n",
    "\n",
    "scenario[\"optimization_iterations\"] = 5\n",
    "\n",
    "scenario[\"input_parameters\"] = {}\n",
    "x1 = {}\n",
    "x1[\"parameter_type\"] = \"ordinal\"\n",
    "x1[\"values\"] = [-5.0, -4.5, -4.0, -3.5, -3.0, -1.5, -1.0, -0.5, 0.0, 2.0, 2.5, 3.0, 3.5, 4.0, 4.5, 5.0, 5.5, 7.0, 7.5,\n",
    "                8.0, 8.5, 9.0, 10.0]\n",
    "\n",
    "scenario[\"input_parameters\"][\"x1\"] = x1\n",
    "\n",
    "with open(\"example_scenarios/demo/example_ordinal_1d_branin_scenario.json\", \"w\") as scenario_file:\n",
    "    json.dump(scenario, scenario_file, indent=4)"
   ]
  },
  {
   "cell_type": "markdown",
   "metadata": {},
   "source": [
    "To double check, print the json generated: "
   ]
  },
  {
   "cell_type": "code",
   "execution_count": 9,
   "metadata": {},
   "outputs": [
    {
     "name": "stdout",
     "output_type": "stream",
     "text": [
      "{\n",
      "    \"application_name\": \"1d_branin\",\n",
      "    \"optimization_objectives\": [\n",
      "        \"value\"\n",
      "    ],\n",
      "    \"design_of_experiment\": {\n",
      "        \"number_of_samples\": 3\n",
      "    },\n",
      "    \"optimization_iterations\": 5,\n",
      "    \"input_parameters\": {\n",
      "        \"x1\": {\n",
      "            \"parameter_type\": \"ordinal\",\n",
      "            \"values\": [\n",
      "                -5.0,\n",
      "                -4.5,\n",
      "                -4.0,\n",
      "                -3.5,\n",
      "                -3.0,\n",
      "                -1.5,\n",
      "                -1.0,\n",
      "                -0.5,\n",
      "                0.0,\n",
      "                2.0,\n",
      "                2.5,\n",
      "                3.0,\n",
      "                3.5,\n",
      "                4.0,\n",
      "                4.5,\n",
      "                5.0,\n",
      "                5.5,\n",
      "                7.0,\n",
      "                7.5,\n",
      "                8.0,\n",
      "                8.5,\n",
      "                9.0,\n",
      "                10.0\n",
      "            ]\n",
      "        }\n",
      "    }\n",
      "}\n"
     ]
    }
   ],
   "source": [
    "f = open(\"example_scenarios/demo/example_ordinal_1d_branin_scenario.json\", \"r\")\n",
    "text = f.read()\n",
    "print(text, flush=True)\n",
    "f.close()"
   ]
  },
  {
   "cell_type": "markdown",
   "metadata": {},
   "source": [
    "### Run HyperMapper"
   ]
  },
  {
   "cell_type": "code",
   "execution_count": 10,
   "metadata": {},
   "outputs": [
    {
     "name": "stdout",
     "output_type": "stream",
     "text": [
      "Design of experiment phase, number of new doe samples = 3 .......\n",
      "x1,value,Timestamp\n",
      "4.5,8.649933213308866,1\n",
      "-5.0,235.1022335430727,1\n",
      "-4.5,190.30580997466993,1\n",
      "\n",
      "\n",
      "End of doe/resume phase, the number of evaluated configurations is: 3\n",
      "\n",
      "Starting optimization iteration 1\n",
      "x1,value,Timestamp\n",
      "5.0,13.730034933787277,185\n",
      "\n",
      "Starting optimization iteration 2\n",
      "x1,value,Timestamp\n",
      "0.0,33.47773764227026,377\n",
      "\n",
      "Starting optimization iteration 3\n",
      "x1,value,Timestamp\n",
      "-0.5,39.157100711222434,535\n",
      "\n",
      "Starting optimization iteration 4\n",
      "x1,value,Timestamp\n",
      "-1.5,51.6774984512692,713\n",
      "\n",
      "Starting optimization iteration 5\n",
      "x1,value,Timestamp\n",
      "3.5,1.0771605292879318,868\n",
      "\n",
      "End of Bayesian Optimization\n",
      "End of HyperMapper\n"
     ]
    }
   ],
   "source": [
    "optimizer.optimize(\"example_scenarios/demo/example_ordinal_1d_branin_scenario.json\", branin_function)\n",
    "sys.stdout = stdout"
   ]
  },
  {
   "cell_type": "markdown",
   "metadata": {},
   "source": [
    "### Visualize Results\n",
    "We visualize the optimization process with a scatterplot of the points explored during optimization."
   ]
  },
  {
   "cell_type": "code",
   "execution_count": 11,
   "metadata": {},
   "outputs": [
    {
     "name": "stderr",
     "output_type": "stream",
     "text": [
      " <ipython-input-11-6772d9dd51e8>:32: UserWarning:Matplotlib is currently using agg, which is a non-GUI backend, so cannot show the figure.\n"
     ]
    },
    {
     "data": {
      "image/png": "[encoded data removed]",
      "text/plain": [
       "<Figure size 864x432 with 1 Axes>"
      ]
     },
     "metadata": {
      "needs_background": "light"
     },
     "output_type": "display_data"
    }
   ],
   "source": [
    "cmap = plt.get_cmap('winter')\n",
    "point_size_ordinal = matplotlib.rcParams['lines.markersize']**1.2\n",
    "\n",
    "\n",
    "branin_scatter_xs = x1[\"values\"]\n",
    "branin_scatter_ys = []\n",
    "for x in branin_scatter_xs:\n",
    "    y = branin_function({'x1': x})\n",
    "    branin_scatter_ys.append(y)\n",
    "plt.scatter(branin_scatter_xs, branin_scatter_ys, s=point_size_ordinal, marker='o', color=\"black\", label=\"1D Ordinal Branin Function\")\n",
    "\n",
    "# Load the points evaluated by HyperMapper during optimization\n",
    "sampled_points = pd.read_csv(\"1d_branin_output_samples.csv\", usecols=['x1', 'value'])\n",
    "x_points = sampled_points['x1'].values\n",
    "y_points = sampled_points['value'].values\n",
    "\n",
    "# Split between DoE and BO\n",
    "doe_x = x_points[:number_of_RS]\n",
    "doe_y = y_points[:number_of_RS]\n",
    "bo_x = x_points[number_of_RS:]\n",
    "bo_y = y_points[number_of_RS:]\n",
    "bo_iterations = list(range(len(bo_x)))\n",
    "optimum = 3\n",
    "\n",
    "plt.scatter(doe_x, doe_y, s=point_size, marker='x', color=\"red\", label=\"Initial Random Sampling\")\n",
    "plt.scatter(optimum, value_at_optimum, s=point_size_optimum, marker='o', color=\"black\", label=\"Minimum\")\n",
    "plt.scatter(bo_x, bo_y, s=point_size, marker='x', c=bo_iterations, cmap=cmap, label=\"Bayesian Otimization\")\n",
    "\n",
    "plt.legend()\n",
    "plt.xlabel(\"x1\")\n",
    "plt.ylabel(\"value\")\n",
    "plt.show()"
   ]
  },
  {
   "cell_type": "markdown",
   "metadata": {},
   "source": [
    "Blue points show points explored during optimization, with brighter points denoting points explored in later iterations. "
   ]
  },
  {
   "cell_type": "markdown",
   "metadata": {},
   "source": [
    "To see how far we land from the true minimum, we visualize the simple regret $R$:"
   ]
  },
  {
   "cell_type": "markdown",
   "metadata": {},
   "source": [
    "### Example 3: Multi-dimension and Multi-objective Function\n",
    "\n",
    "In this example, we are showing how to optimize the DTLZ1 function:\n",
    "- 6 input dimensions\n",
    "- 2 output dimensions"
   ]
  },
  {
   "cell_type": "code",
   "execution_count": 12,
   "metadata": {},
   "outputs": [],
   "source": [
    "def dtlz1_function(X):\n",
    "    \"\"\"\n",
    "    Compute the adapted DTLZ1 function proposed by Knowles: https://www.cs.bham.ac.uk/~jdk/parego/ParEGO-TR3.pdf. \n",
    "    :param X: dictionary containing the input points.\n",
    "    :return: the two values of the dtlz1 function.\n",
    "    \"\"\"\n",
    "    x1 = X['x1']\n",
    "    x2 = X['x2']\n",
    "    x3 = X['x3']\n",
    "    x4 = X['x4']\n",
    "    x5 = X['x5']\n",
    "    x6 = X['x6']\n",
    "    g_sum = (x2 - 0.5)**2 + (x3 - 0.5)**2 + (x4 - 0.5)**2 + (x5 - 0.5)**2 + (x6 - 0.5)**2\n",
    "    g_cos = math.cos(2*math.pi*(x2 - 0.5)) + math.cos(2*math.pi*(x3 - 0.5)) + math.cos(2*math.pi*(x4 - 0.5))\\\n",
    "          + math.cos(2*math.pi*(x5 - 0.5)) + math.cos(2*math.pi*(x6 - 0.5))\n",
    "    g = 100*(5 + g_sum - g_cos)\n",
    "    f1_value = 0.5*x1*(1 + g)\n",
    "    f2_value = 0.5*(1 - x1)*(1 + g)\n",
    "\n",
    "    output_metrics = {}\n",
    "    output_metrics['f1_value'] = f1_value\n",
    "    output_metrics['f2_value'] = f2_value\n",
    "\n",
    "    return output_metrics"
   ]
  },
  {
   "cell_type": "markdown",
   "metadata": {},
   "source": [
    "This is not a function we can easily visualize because of the multiple input/output dimensions. "
   ]
  },
  {
   "cell_type": "markdown",
   "metadata": {},
   "source": [
    "### Setup HyperMapper to Run on DTLZ1"
   ]
  },
  {
   "cell_type": "markdown",
   "metadata": {},
   "source": [
    "We create the json in python and then dump it on a file: "
   ]
  },
  {
   "cell_type": "code",
   "execution_count": 13,
   "metadata": {},
   "outputs": [],
   "source": [
    "scenario = {}\n",
    "scenario[\"application_name\"] = \"dtlz1\"\n",
    "scenario[\"optimization_objectives\"] = [\"f1_value\", \"f2_value\"]\n",
    "\n",
    "number_of_RS = 10\n",
    "scenario[\"design_of_experiment\"] = {}\n",
    "scenario[\"design_of_experiment\"][\"number_of_samples\"] = number_of_RS\n",
    "\n",
    "scenario[\"optimization_iterations\"] = 10\n",
    "\n",
    "scenario[\"input_parameters\"] = {}\n",
    "x1 = {}\n",
    "x1[\"parameter_type\"] = \"real\"\n",
    "x1[\"values\"] = [0, 1]\n",
    "scenario[\"input_parameters\"][\"x1\"] = x1\n",
    "x2 = {}\n",
    "x2[\"parameter_type\"] = \"real\"\n",
    "x2[\"values\"] = [0, 1]\n",
    "scenario[\"input_parameters\"][\"x2\"] = x2\n",
    "x3 = {}\n",
    "x3[\"parameter_type\"] = \"real\"\n",
    "x3[\"values\"] = [0, 1]\n",
    "scenario[\"input_parameters\"][\"x3\"] = x3\n",
    "x4 = {}\n",
    "x4[\"parameter_type\"] = \"real\"\n",
    "x4[\"values\"] = [0, 1]\n",
    "scenario[\"input_parameters\"][\"x4\"] = x4\n",
    "x5 = {}\n",
    "x5[\"parameter_type\"] = \"real\"\n",
    "x5[\"values\"] = [0, 1]\n",
    "scenario[\"input_parameters\"][\"x5\"] = x5\n",
    "x6 = {}\n",
    "x6[\"parameter_type\"] = \"real\"\n",
    "x6[\"values\"] = [0, 1]\n",
    "scenario[\"input_parameters\"][\"x6\"] = x6\n",
    "\n",
    "with open(\"example_scenarios/demo/example_dtlz1_scenario.json\", \"w\") as scenario_file:\n",
    "    json.dump(scenario, scenario_file, indent=4)\n"
   ]
  },
  {
   "cell_type": "markdown",
   "metadata": {},
   "source": [
    "To double check, print the json generated: "
   ]
  },
  {
   "cell_type": "code",
   "execution_count": 14,
   "metadata": {
    "scrolled": true
   },
   "outputs": [
    {
     "name": "stdout",
     "output_type": "stream",
     "text": [
      "{\n",
      "    \"application_name\": \"dtlz1\",\n",
      "    \"optimization_objectives\": [\n",
      "        \"f1_value\",\n",
      "        \"f2_value\"\n",
      "    ],\n",
      "    \"design_of_experiment\": {\n",
      "        \"number_of_samples\": 10\n",
      "    },\n",
      "    \"optimization_iterations\": 10,\n",
      "    \"input_parameters\": {\n",
      "        \"x1\": {\n",
      "            \"parameter_type\": \"real\",\n",
      "            \"values\": [\n",
      "                0,\n",
      "                1\n",
      "            ]\n",
      "        },\n",
      "        \"x2\": {\n",
      "            \"parameter_type\": \"real\",\n",
      "            \"values\": [\n",
      "                0,\n",
      "                1\n",
      "            ]\n",
      "        },\n",
      "        \"x3\": {\n",
      "            \"parameter_type\": \"real\",\n",
      "            \"values\": [\n",
      "                0,\n",
      "                1\n",
      "            ]\n",
      "        },\n",
      "        \"x4\": {\n",
      "            \"parameter_type\": \"real\",\n",
      "            \"values\": [\n",
      "                0,\n",
      "                1\n",
      "            ]\n",
      "        },\n",
      "        \"x5\": {\n",
      "            \"parameter_type\": \"real\",\n",
      "            \"values\": [\n",
      "                0,\n",
      "                1\n",
      "            ]\n",
      "        },\n",
      "        \"x6\": {\n",
      "            \"parameter_type\": \"real\",\n",
      "            \"values\": [\n",
      "                0,\n",
      "                1\n",
      "            ]\n",
      "        }\n",
      "    }\n",
      "}\n"
     ]
    }
   ],
   "source": [
    "f = open(\"example_scenarios/demo/example_dtlz1_scenario.json\", \"r\")\n",
    "text = f.read()\n",
    "print(text, flush=True)\n",
    "f.close()"
   ]
  },
  {
   "cell_type": "markdown",
   "metadata": {},
   "source": [
    "### Run HyperMapper"
   ]
  },
  {
   "cell_type": "code",
   "execution_count": 15,
   "metadata": {},
   "outputs": [
    {
     "name": "stdout",
     "output_type": "stream",
     "text": [
      "Design of experiment phase, number of new doe samples = 10 .......\n",
      "x1,x2,x3,x4,x5,x6,f1_value,f2_value,Timestamp\n",
      "0.021975438221751003,0.4489609994851813,0.9564172325994019,0.07241388837773456,0.5044919324380939,0.8008941263490077,6.286127748224865,279.76631338138765,3\n",
      "0.8436288722314096,0.5323005914500981,0.45217409920794055,0.9447631159440792,0.34036693005424695,0.9872706962408272,208.32580448536783,38.61430311709403,3\n",
      "0.7280229487910166,0.6844643161724661,0.015731812140563597,0.5935992917199074,0.8336394959368126,0.5590877522477226,172.35189256574358,64.3877498479439,3\n",
      "0.6360793241759606,0.7293260426839009,0.50803716335278,0.42124745287696835,0.9803409446654618,0.6843518996942384,124.56834198887351,71.2694053710985,3\n",
      "0.7849970717813745,0.8473221117893012,0.9554797460601425,0.2931481829598433,0.9580413447094487,0.5978792733146296,275.39103053594965,75.42687749905943,3\n",
      "0.39882810942625857,0.12153098285522669,0.6910779910666026,0.1609327651797661,0.9503595419511066,0.8037130865791968,155.02555226912074,233.6771209003697,3\n",
      "0.2302903909911856,0.5042669812426637,0.12655019115729804,0.666518769973769,0.745293889196743,0.45612976413469697,39.693209390157435,132.66834342720134,3\n",
      "0.15137022479070944,0.005763549599258743,0.5989941553425653,0.06970989632580686,0.4123292093494305,0.6983833428172581,41.00431079231448,229.88324882523045,3\n",
      "0.11071715951022552,0.823304604440811,0.36820870537126194,0.12402200529516628,0.5075537443800975,0.03610387018903931,32.903091454588996,264.2784077831164,3\n",
      "0.4064312606622093,0.1177062761661256,0.27085112873935024,0.8538264249817659,0.9196444861054648,0.5383225133240589,134.74586257716865,196.78833673029507,3\n",
      "\n",
      "\n",
      "End of doe/resume phase, the number of evaluated configurations is: 10\n",
      "\n",
      "Starting optimization iteration 1\n",
      "x1,x2,x3,x4,x5,x6,f1_value,f2_value,Timestamp\n",
      "0.8267270445724765,0.3544742325547301,0.20060803645545092,0.21488924346049168,0.6759121311346199,0.8607905199223821,226.08889487095576,47.385762036963115,5159\n",
      "\n",
      "Starting optimization iteration 2\n",
      "x1,x2,x3,x4,x5,x6,f1_value,f2_value,Timestamp\n",
      "0.12043675601847455,0.06560195592094477,0.5141228149832779,0.7260442961611921,0.32639012307418064,0.6616241554142933,24.6145730170347,179.76300929893964,5201\n",
      "\n",
      "Starting optimization iteration 3\n",
      "x1,x2,x3,x4,x5,x6,f1_value,f2_value,Timestamp\n",
      "0.0027648489023236926,0.3158804556625418,0.9716884454424278,0.0773375405931224,0.5469553496189274,1,0.9962702354880849,359.33815333853744,10457\n",
      "\n",
      "Starting optimization iteration 4\n",
      "x1,x2,x3,x4,x5,x6,f1_value,f2_value,Timestamp\n",
      "0.802092001817465,0.48319900422524426,0.9655397896314654,0.3857152970993912,0.20853925826623437,0.8043822485335816,210.12656700516018,51.846581373122056,15904\n",
      "\n",
      "Starting optimization iteration 5\n",
      "x1,x2,x3,x4,x5,x6,f1_value,f2_value,Timestamp\n",
      "0.8226989855460453,0.4109570988916814,1,0.20324613669206368,0.06441754464126725,1,335.53559359646766,72.31174727969078,21408\n",
      "\n",
      "Starting optimization iteration 6\n",
      "x1,x2,x3,x4,x5,x6,f1_value,f2_value,Timestamp\n",
      "0.04353554864303971,0.06284697499052183,0.9575155904137995,0.9617980203807222,0.4274000764007972,0.8977583696622762,18.60932994838639,408.8420409064879,26324\n",
      "\n",
      "Starting optimization iteration 7\n",
      "x1,x2,x3,x4,x5,x6,f1_value,f2_value,Timestamp\n",
      "0.18858325774589307,0.5581556119438956,0.9764725578963807,0.1404768857551101,0.9694898369026111,0.9865526855553988,80.10224093663932,344.65572482389103,31791\n",
      "\n",
      "Starting optimization iteration 8\n",
      "x1,x2,x3,x4,x5,x6,f1_value,f2_value,Timestamp\n",
      "0.9918828470005755,0.33813332843070476,0.9715251990717005,0.6550077191980156,0.3669324583991869,1,286.4561462345447,2.344236896164381,37329\n",
      "\n",
      "Starting optimization iteration 9\n",
      "x1,x2,x3,x4,x5,x6,f1_value,f2_value,Timestamp\n",
      "0.02521849726072333,0.33414968038418924,1,0.11410619712638047,0.2067601325848787,0.9893996393258654,10.437225519271827,403.43460083761954,42524\n",
      "\n",
      "Starting optimization iteration 10\n",
      "x1,x2,x3,x4,x5,x6,f1_value,f2_value,Timestamp\n",
      "0.9924450439513285,0.6059412009258989,1,0.9497667254412396,0.09708215200238221,0.8655670854397876,417.6813423351907,3.179585814776099,47741\n",
      "\n",
      "End of Bayesian Optimization\n",
      "End of HyperMapper\n"
     ]
    }
   ],
   "source": [
    "optimizer.optimize(\"example_scenarios/demo/example_dtlz1_scenario.json\", dtlz1_function)\n",
    "sys.stdout = stdout"
   ]
  },
  {
   "cell_type": "markdown",
   "metadata": {},
   "source": [
    "### Visualize Results\n",
    "We can visualize the optimization process using a Pareto front. \n",
    "\n",
    "This script computes the Pareto front from the output of HyperMapper: "
   ]
  },
  {
   "cell_type": "code",
   "execution_count": 16,
   "metadata": {},
   "outputs": [
    {
     "data": {
      "text/plain": [
       "['######## compute_pareto.py #####################',\n",
       " '### Parameters file is example_scenarios/demo/example_dtlz1_scenario.json',\n",
       " '### The input data file is ./dtlz1_output_samples.csv',\n",
       " '### The output Pareto file is ./dtlz1_output_pareto.csv',\n",
       " '################################################',\n",
       " 'Computing the Pareto...',\n",
       " 'Time to read from file ./dtlz1_output_samples.csv and create the data array is: 0.000297 sec',\n",
       " 'Total time of computation is (read and Pareto computation): 0.001102 seconds',\n",
       " 'The total size of the Pareto (RS + AL) is: 8',\n",
       " 'End of the compute_pareto.py script!',\n",
       " '',\n",
       " '/home/leonard/IdeaProjects/hypermapper_dev/scripts/hypermapper.py:22: UserWarning: Found hypermapper in PYTHONPATH. Usage is deprecated and might break things. Please remove all hypermapper references from PYTHONPATH. Trying to importwithout hypermapper in PYTHONPATH...',\n",
       " '  warnings.warn(\"Found hypermapper in PYTHONPATH. Usage is deprecated and might break things. \"']"
      ]
     },
     "execution_count": 16,
     "metadata": {},
     "output_type": "execute_result"
    }
   ],
   "source": [
    "!!python hypermapper/compute_pareto.py \"example_scenarios/demo/example_dtlz1_scenario.json\""
   ]
  },
  {
   "cell_type": "markdown",
   "metadata": {},
   "source": [
    "This scripts plot the Pareto front:"
   ]
  },
  {
   "cell_type": "code",
   "execution_count": 17,
   "metadata": {},
   "outputs": [
    {
     "data": {
      "text/plain": [
       "['######### plot_dse.py ##########################',\n",
       " '### Parameters file is example_scenarios/demo/example_dtlz1_scenario.json',\n",
       " '### The Pareto and DSE data files are: ./dtlz1_output_pareto.csv ./dtlz1_output_samples.csv ',\n",
       " '### The first output pdf image is ./example_scenarios/demo/dtlz1_output_pareto.pdf',\n",
       " '### The second output pdf image is ./example_scenarios/demo/all_dtlz1_output_pareto.pdf',\n",
       " '################################################',\n",
       " 'Loading data from ./dtlz1_output_pareto.csv ...',\n",
       " 'Time to read from file ./dtlz1_output_pareto.csv and create the data array is: 0.000174 sec',\n",
       " \"Parameters are ['x1', 'x2', 'x3', 'x4', 'x5', 'x6', 'f1_value', 'f2_value', 'Timestamp']\",\n",
       " '',\n",
       " 'Size of the data file ./dtlz1_output_pareto.csv is 8',\n",
       " 'Loading data from ./dtlz1_output_samples.csv ...',\n",
       " 'Time to read from file ./dtlz1_output_samples.csv and create the data array is: 0.000298 sec',\n",
       " \"Parameters are ['x1', 'x2', 'x3', 'x4', 'x5', 'x6', 'f1_value', 'f2_value', 'Timestamp']\",\n",
       " '',\n",
       " 'Size of the data file ./dtlz1_output_samples.csv is 20',\n",
       " 'End of the plot_dse script!',\n",
       " '/home/leonard/IdeaProjects/hypermapper_dev/scripts/hypermapper.py:22: UserWarning: Found hypermapper in PYTHONPATH. Usage is deprecated and might break things. Please remove all hypermapper references from PYTHONPATH. Trying to importwithout hypermapper in PYTHONPATH...',\n",
       " '  warnings.warn(\"Found hypermapper in PYTHONPATH. Usage is deprecated and might break things. \"']"
      ]
     },
     "execution_count": 17,
     "metadata": {},
     "output_type": "execute_result"
    }
   ],
   "source": [
    "!!python3 hypermapper/plot_dse.py \"example_scenarios/demo/example_dtlz1_scenario.json\" \"example_scenarios/demo/dtlz1_output_pareto.pdf\""
   ]
  },
  {
   "cell_type": "code",
   "execution_count": 18,
   "metadata": {},
   "outputs": [
    {
     "data": {
      "text/html": [
       "\n",
       "        <iframe\n",
       "            width=\"1000\"\n",
       "            height=\"600\"\n",
       "            src=\"./dtlz1_output_pareto.pdf\"\n",
       "            frameborder=\"0\"\n",
       "            allowfullscreen\n",
       "        ></iframe>\n",
       "        "
      ],
      "text/plain": [
       "<IPython.lib.display.IFrame at 0x7f8e5c4cc400>"
      ]
     },
     "execution_count": 18,
     "metadata": {},
     "output_type": "execute_result"
    }
   ],
   "source": [
    "from IPython.display import IFrame\n",
    "IFrame(\"./dtlz1_output_pareto.pdf\", width=1000, height=600)"
   ]
  },
  {
   "cell_type": "code",
   "execution_count": null,
   "outputs": [],
   "source": [],
   "metadata": {
    "collapsed": false,
    "pycharm": {
     "name": "#%%\n"
    }
   }
  },
  {
   "cell_type": "code",
   "execution_count": null,
   "metadata": {},
   "outputs": [],
   "source": []
  }
 ],
 "metadata": {
  "kernelspec": {
   "display_name": "Python 3",
   "language": "python",
   "name": "python3"
  },
  "language_info": {
   "codemirror_mode": {
    "name": "ipython",
    "version": 3
   },
   "file_extension": ".py",
   "mimetype": "text/x-python",
   "name": "python",
   "nbconvert_exporter": "python",
   "pygments_lexer": "ipython3",
   "version": "3.8.5"
  }
 },
 "nbformat": 4,
 "nbformat_minor": 4
}