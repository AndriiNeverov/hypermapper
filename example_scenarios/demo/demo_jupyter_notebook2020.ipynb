{
 "cells": [
  {
   "cell_type": "markdown",
   "metadata": {},
   "source": [
    "# Demo HyperMapper 2020: \n",
    "# a Practical Design Space Exploration Framework \n",
    "\n",
    "You are looking for a parameter setting that minimizes some performance metric of your algorithm (such as runtime, error, or cost). \n",
    "\n",
    "To use HyperMapper for this purpose you need to tell it about your parameters and how to evaluate your algorithm's performance. "
   ]
  },
  {
   "cell_type": "markdown",
   "metadata": {},
   "source": [
    "### Example 1: The Branin Black-box Function\n",
    "\n",
    "First, we will show how to do this on a running example using a simple 1-dimensional version of the Branin function (https://www.sfu.ca/~ssurjano/branin.html). \n",
    "\n",
    "We look for minimizing the value of this function given the parameter $x_1 \\in [-5, 10]$.\n",
    "\n",
    "Consider the 1-dimensional Branin black-box function evaluation (which depends on the input variables x1), this is the objective we want to minimize:"
   ]
  },
  {
   "cell_type": "code",
   "execution_count": 1,
   "metadata": {},
   "outputs": [],
   "source": [
    "import math\n",
    "def branin_function_1d(X):\n",
    "    # The function must receive a dictionary\n",
    "    x1 = X['x1']\n",
    "    \n",
    "    # Branin function computation\n",
    "    a = 1.0\n",
    "    b = 5.1 / (4.0 * math.pi * math.pi)\n",
    "    c = 5.0 / math.pi\n",
    "    r = 6.0\n",
    "    s = 10.0\n",
    "    t = 1.0 / (8.0 * math.pi)\n",
    "    x2 = 2.275\n",
    "    value = a * (x2 - b * x1 * x1 + c * x1 - r) ** 2 + s * (1 - t) * math.cos(x1) + s\n",
    "\n",
    "    # The function must return the objective value (a number)\n",
    "    return value"
   ]
  },
  {
   "cell_type": "markdown",
   "metadata": {},
   "source": [
    "We can plot the 1D Branin function and visualize the optimum (the minimum):"
   ]
  },
  {
   "cell_type": "code",
   "execution_count": 2,
   "metadata": {},
   "outputs": [
    {
     "data": {
      "image/png": "[encoded data removed]",
      "text/plain": [
       "<Figure size 864x432 with 1 Axes>"
      ]
     },
     "metadata": {
      "needs_background": "light"
     },
     "output_type": "display_data"
    },
    {
     "name": "stdout",
     "output_type": "stream",
     "text": [
      "The 1d Branin function has one global optimum at x1 = π\n",
      "(x, y) at minimum is: (3.141592653589793,0.39788735772973816)\n"
     ]
    }
   ],
   "source": [
    "import matplotlib\n",
    "import matplotlib.pyplot as plt\n",
    "import pandas as pd\n",
    "import numpy as np\n",
    "%matplotlib inline\n",
    "plt.rcParams['figure.figsize'] = [12, 6]\n",
    "plt.rcParams['font.size'] = 18\n",
    "point_size = matplotlib.rcParams['lines.markersize']**2.8\n",
    "point_size_optimum = matplotlib.rcParams['lines.markersize']**2\n",
    "\n",
    "optimum = math.pi\n",
    "value_at_optimum=branin_function_1d({'x1': optimum})\n",
    "\n",
    "# Sample 1000 (x,y) pairs from the function to plot its curve\n",
    "branin_line_xs = np.linspace(-5, 10, 1000)\n",
    "branin_line_ys = []\n",
    "for x in branin_line_xs:\n",
    "    y = branin_function_1d({'x1': x})\n",
    "    branin_line_ys.append(y)\n",
    "plt.plot(branin_line_xs, branin_line_ys, label=\"1D Branin Function\")\n",
    "\n",
    "# Mark the known optimum on the curve\n",
    "plt.scatter(optimum, value_at_optimum, s=point_size_optimum, marker='o', color=\"black\", label=\"Minimum\")\n",
    "\n",
    "plt.legend()\n",
    "plt.xlabel(\"x1\")\n",
    "plt.ylabel(\"value\")\n",
    "plt.show()\n",
    "print(\"The 1d Branin function has one global optimum at x1 = \\u03C0\", flush=True)\n",
    "print(\"(x, y) at minimum is: (\"+str(optimum)+\",\"+str(value_at_optimum)+\")\", flush=True)"
   ]
  },
  {
   "cell_type": "markdown",
   "metadata": {},
   "source": [
    "### Setup HyperMapper to Run on Branin"
   ]
  },
  {
   "cell_type": "markdown",
   "metadata": {},
   "source": [
    "The inputs to HyperMapper specify an instance of the software configuration problem. In this example, we are showing how to optimize the Branin function value with a single dimension. The following is what needs to be specified as a json syntax to run Branin:"
   ]
  },
  {
   "cell_type": "raw",
   "metadata": {},
   "source": [
    "{\n",
    "    \"application_name\": \"1d_branin\",\n",
    "    \"optimization_objectives\": [\"value\"],\n",
    "    \"design_of_experiment\": { \"number_of_samples\": 3 }\n",
    "    \"optimization_iterations\": 10,\n",
    "    \"input_parameters\" : {\n",
    "        \"x1\": {\n",
    "            \"parameter_type\" : \"real\",\n",
    "            \"values\" : [-5, 10]\n",
    "        }\n",
    "    }\n",
    "}"
   ]
  },
  {
   "cell_type": "markdown",
   "metadata": {},
   "source": [
    "We create the json in python and then dump it on a file: "
   ]
  },
  {
   "cell_type": "code",
   "execution_count": 3,
   "metadata": {},
   "outputs": [],
   "source": [
    "import json\n",
    "scenario = {}\n",
    "scenario[\"application_name\"] = \"1d_branin\"\n",
    "scenario[\"optimization_objectives\"] = [\"value\"]\n",
    "\n",
    "number_of_RS = 3\n",
    "scenario[\"design_of_experiment\"] = {}\n",
    "scenario[\"design_of_experiment\"][\"number_of_samples\"] = number_of_RS\n",
    "scenario[\"models\"] = {}\n",
    "scenario[\"models\"][\"model\"] = \"gaussian_process\"\n",
    "\n",
    "scenario[\"optimization_iterations\"] = 10\n",
    "\n",
    "scenario[\"input_parameters\"] = {}\n",
    "x1 = {}\n",
    "x1[\"parameter_type\"] = \"real\"\n",
    "x1[\"values\"] = [-5, 10]\n",
    "\n",
    "scenario[\"input_parameters\"][\"x1\"] = x1\n",
    "\n",
    "with open(\"example_1d_branin_scenario.json\", \"w\") as scenario_file:\n",
    "    json.dump(scenario, scenario_file, indent=4)\n"
   ]
  },
  {
   "cell_type": "markdown",
   "metadata": {},
   "source": [
    "To double check, print the json generated: "
   ]
  },
  {
   "cell_type": "code",
   "execution_count": 4,
   "metadata": {},
   "outputs": [
    {
     "name": "stdout",
     "output_type": "stream",
     "text": [
      "{\n",
      "    \"application_name\": \"1d_branin\",\n",
      "    \"optimization_objectives\": [\n",
      "        \"value\"\n",
      "    ],\n",
      "    \"design_of_experiment\": {\n",
      "        \"number_of_samples\": 3\n",
      "    },\n",
      "    \"models\": {\n",
      "        \"model\": \"gaussian_process\"\n",
      "    },\n",
      "    \"optimization_iterations\": 10,\n",
      "    \"input_parameters\": {\n",
      "        \"x1\": {\n",
      "            \"parameter_type\": \"real\",\n",
      "            \"values\": [\n",
      "                -5,\n",
      "                10\n",
      "            ]\n",
      "        }\n",
      "    }\n",
      "}\n"
     ]
    }
   ],
   "source": [
    "f = open(\"example_1d_branin_scenario.json\", \"r\")\n",
    "text = f.read()\n",
    "print(text, flush=True)\n",
    "f.close()"
   ]
  },
  {
   "cell_type": "markdown",
   "metadata": {},
   "source": [
    "### Run HyperMapper\n",
    "You are all set to run Branin and HyperMapper together!\n",
    "\n",
    "To optimize the branin function, call HyperMapper's optimize method with the json file and the branin function as parameters:"
   ]
  },
  {
   "cell_type": "code",
   "execution_count": 5,
   "metadata": {
    "scrolled": false
   },
   "outputs": [
    {
     "name": "stdout",
     "output_type": "stream",
     "text": [
      "Design of experiment phase, number of doe samples = 3 .......\n",
      "x1,value,Timestamp\n",
      "-1.9140642598313362,59.25268108216481,2\n",
      "7.495183121672827,14.267936227319968,2\n",
      "2.340385221708943,3.8193852817623766,2\n",
      "\n",
      "\n",
      "End of doe phase, the number of new configuration runs is: 3\n",
      "\n",
      "Starting optimization iteration 1\n",
      "x1,value,Timestamp\n",
      "2.3412639156961976,3.812101631975991,2222\n",
      "\n",
      "Starting optimization iteration 2\n",
      "x1,value,Timestamp\n",
      "3.493298290222773,1.0523858910054447,4418\n",
      "\n",
      "Starting optimization iteration 3\n",
      "x1,value,Timestamp\n",
      "3.226416428940155,0.436664393943504,6583\n",
      "\n",
      "Starting optimization iteration 4\n",
      "x1,value,Timestamp\n",
      "3.1262673141135657,0.39915850778499795,8694\n",
      "\n",
      "Starting optimization iteration 5\n",
      "x1,value,Timestamp\n",
      "10,2.473061481952689,10907\n",
      "\n",
      "Starting optimization iteration 6\n",
      "x1,value,Timestamp\n",
      "3.1434967724384535,0.3979069684333538,13102\n",
      "\n",
      "Starting optimization iteration 7\n",
      "x1,value,Timestamp\n",
      "3.140422115078067,0.39789476957417236,15362\n",
      "\n",
      "Starting optimization iteration 8\n",
      "x1,value,Timestamp\n",
      "3.1422641607905533,0.3978897968120627,17579\n",
      "\n",
      "Starting optimization iteration 9\n",
      "x1,value,Timestamp\n",
      "3.142784956072484,0.39789504707837153,19802\n",
      "\n",
      "Starting optimization iteration 10\n",
      "x1,value,Timestamp\n",
      "3.142177391835922,0.3978892072092286,21910\n",
      "\n",
      "End of Random Scalarizations\n",
      "### End of the hypermapper script.\n"
     ]
    }
   ],
   "source": [
    "import sys\n",
    "import os\n",
    "os.chdir(\"../../\")\n",
    "sys.path.append('scripts')\n",
    "import hypermapper\n",
    "stdout = sys.stdout # Jupyter uses a special stdout and HyperMapper logging overwrites it. Save stdout to restore later\n",
    "\n",
    "# Call HyperMapper to optimize the 1d Branin function\n",
    "hypermapper.optimize(\"example_scenarios/demo/example_1d_branin_scenario.json\", branin_function_1d)\n",
    "sys.stdout = stdout"
   ]
  },
  {
   "cell_type": "markdown",
   "metadata": {},
   "source": [
    "The result of this script is a csv file called \"1d_branin_output_samples.csv\". You can find all the samples explored by HyperMapper during optimization in this file."
   ]
  },
  {
   "cell_type": "markdown",
   "metadata": {},
   "source": [
    "### Visualize Results\n",
    "We can visualize the optimization process with a scatterplot of the points explored during optimization. The code below plots the points explored by HyperMapper during optimization. "
   ]
  },
  {
   "cell_type": "code",
   "execution_count": 6,
   "metadata": {
    "scrolled": false
   },
   "outputs": [
    {
     "data": {
      "image/png": "[encoded data removed]",
      "text/plain": [
       "<Figure size 864x432 with 1 Axes>"
      ]
     },
     "metadata": {
      "needs_background": "light"
     },
     "output_type": "display_data"
    }
   ],
   "source": [
    "cmap = plt.get_cmap('winter')\n",
    "plt.plot(branin_line_xs, branin_line_ys, label=\"1D Branin Function\")\n",
    "\n",
    "# Load the points evaluated by HyperMapper during optimization\n",
    "optimum = math.pi\n",
    "sampled_points = pd.read_csv(\"1d_branin_output_samples.csv\", usecols=['x1', 'value'])\n",
    "x_points = sampled_points['x1'].values\n",
    "y_points = sampled_points['value'].values\n",
    "\n",
    "# Split between DoE and BO\n",
    "doe_x = x_points[:number_of_RS]\n",
    "doe_y = y_points[:number_of_RS]\n",
    "bo_x = x_points[number_of_RS:]\n",
    "bo_y = y_points[number_of_RS:]\n",
    "bo_iterations = list(range(len(bo_x)))\n",
    "\n",
    "plt.scatter(doe_x, doe_y, s=point_size, marker='x', color=\"red\", label=\"Initial Random Sampling\")\n",
    "plt.scatter(optimum, value_at_optimum, s=point_size_optimum, marker='o', color=\"black\", label=\"Minimum\")\n",
    "plt.scatter(bo_x, bo_y, s=point_size, marker='x', c=bo_iterations, cmap=cmap, label=\"Bayesian Otimization\")\n",
    "\n",
    "plt.legend()\n",
    "plt.xlabel(\"x1\")\n",
    "plt.ylabel(\"value\")\n",
    "plt.show()"
   ]
  },
  {
   "cell_type": "markdown",
   "metadata": {},
   "source": [
    "Blue points show points explored during optimization, with brighter points denoting points explored in later iterations. "
   ]
  },
  {
   "cell_type": "markdown",
   "metadata": {
    "collapsed": true
   },
   "source": [
    "### Example 2: Ordinal Input\n",
    "\n",
    "In this example, we are showing how to optimize the Branin function with ordinal inputs. Ordinal parameters are discrete ordered numerical parameters. \n",
    "\n",
    "We use the same Branin function we defined in Example 1, but change the optimization configuration.\n"
   ]
  },
  {
   "cell_type": "markdown",
   "metadata": {},
   "source": [
    "### Setup HyperMapper to Run on Branin with Ordinal Variables"
   ]
  },
  {
   "cell_type": "markdown",
   "metadata": {},
   "source": [
    "We create a json for the new configuration in python and dump it on a file."
   ]
  },
  {
   "cell_type": "code",
   "execution_count": 7,
   "metadata": {},
   "outputs": [],
   "source": [
    "scenario = {}\n",
    "scenario[\"application_name\"] = \"1d_branin\"\n",
    "scenario[\"optimization_objectives\"] = [\"value\"]\n",
    "\n",
    "number_of_RS = 2\n",
    "scenario[\"design_of_experiment\"] = {}\n",
    "scenario[\"design_of_experiment\"][\"number_of_samples\"] = number_of_RS\n",
    "scenario[\"models\"] = {}\n",
    "scenario[\"models\"][\"model\"] = \"gaussian_process\"\n",
    "\n",
    "scenario[\"optimization_iterations\"] = 8\n",
    "\n",
    "scenario[\"input_parameters\"] = {}\n",
    "x1 = {}\n",
    "x1[\"parameter_type\"] = \"ordinal\"\n",
    "x1[\"values\"] = [-5.0, -4.5, -4.0, -3.5, -3.0, -1.5, -1.0, -0.5, 0.0, 2.0, 2.5, 3.0, 3.5, 4.0, 4.5, 5.0, 5.5, 7.0, 7.5,\n",
    "                8.0, 8.5, 9.0, 10.0]\n",
    "\n",
    "scenario[\"input_parameters\"][\"x1\"] = x1\n",
    "\n",
    "with open(\"example_ordinal_1d_branin_scenario.json\", \"w\") as scenario_file:\n",
    "    json.dump(scenario, scenario_file, indent=4)"
   ]
  },
  {
   "cell_type": "markdown",
   "metadata": {},
   "source": [
    "To double check, print the json generated: "
   ]
  },
  {
   "cell_type": "code",
   "execution_count": 8,
   "metadata": {},
   "outputs": [
    {
     "name": "stdout",
     "output_type": "stream",
     "text": [
      "{\n",
      "    \"application_name\": \"1d_branin\",\n",
      "    \"optimization_objectives\": [\n",
      "        \"value\"\n",
      "    ],\n",
      "    \"design_of_experiment\": {\n",
      "        \"number_of_samples\": 2\n",
      "    },\n",
      "    \"models\": {\n",
      "        \"model\": \"gaussian_process\"\n",
      "    },\n",
      "    \"optimization_iterations\": 8,\n",
      "    \"input_parameters\": {\n",
      "        \"x1\": {\n",
      "            \"parameter_type\": \"ordinal\",\n",
      "            \"values\": [\n",
      "                -5.0,\n",
      "                -4.5,\n",
      "                -4.0,\n",
      "                -3.5,\n",
      "                -3.0,\n",
      "                -1.5,\n",
      "                -1.0,\n",
      "                -0.5,\n",
      "                0.0,\n",
      "                2.0,\n",
      "                2.5,\n",
      "                3.0,\n",
      "                3.5,\n",
      "                4.0,\n",
      "                4.5,\n",
      "                5.0,\n",
      "                5.5,\n",
      "                7.0,\n",
      "                7.5,\n",
      "                8.0,\n",
      "                8.5,\n",
      "                9.0,\n",
      "                10.0\n",
      "            ]\n",
      "        }\n",
      "    }\n",
      "}\n"
     ]
    }
   ],
   "source": [
    "f = open(\"example_ordinal_1d_branin_scenario.json\", \"r\")\n",
    "text = f.read()\n",
    "print(text, flush=True)\n",
    "f.close()"
   ]
  },
  {
   "cell_type": "markdown",
   "metadata": {},
   "source": [
    "### Run HyperMapper"
   ]
  },
  {
   "cell_type": "code",
   "execution_count": 9,
   "metadata": {},
   "outputs": [
    {
     "name": "stdout",
     "output_type": "stream",
     "text": [
      "Design of experiment phase, number of doe samples = 2 .......\n",
      "x1,value,Timestamp\n",
      "5.5,18.060674124988978,1\n",
      "4.5,8.649933213308866,1\n",
      "\n",
      "\n",
      "End of doe phase, the number of new configuration runs is: 2\n",
      "\n",
      "Starting optimization iteration 1\n",
      "x1,value,Timestamp\n",
      "-4.5,190.30580997466993,128\n",
      "\n",
      "Starting optimization iteration 2\n",
      "x1,value,Timestamp\n",
      "10.0,2.473061481952689,248\n",
      "\n",
      "Starting optimization iteration 3\n",
      "x1,value,Timestamp\n",
      "-3.0,93.8541933295621,303\n",
      "\n",
      "Starting optimization iteration 4\n",
      "x1,value,Timestamp\n",
      "2.5,2.6137237843308414,402\n",
      "\n",
      "Starting optimization iteration 5\n",
      "x1,value,Timestamp\n",
      "3.0,0.506752310227002,520\n",
      "\n",
      "Starting optimization iteration 6\n",
      "x1,value,Timestamp\n",
      "-1.5,51.6774984512692,653\n",
      "\n",
      "Starting optimization iteration 7\n",
      "x1,value,Timestamp\n",
      "3.5,1.0771605292879318,760\n",
      "\n",
      "Starting optimization iteration 8\n",
      "x1,value,Timestamp\n",
      "8.5,4.439928081572989,883\n",
      "\n",
      "End of Random Scalarizations\n",
      "### End of the hypermapper script.\n"
     ]
    }
   ],
   "source": [
    "hypermapper.optimize(\"example_ordinal_1d_branin_scenario.json\", branin_function_1d)\n",
    "sys.stdout = stdout"
   ]
  },
  {
   "cell_type": "markdown",
   "metadata": {},
   "source": [
    "### Visualize Results\n",
    "We visualize the optimization process with a scatterplot of the points explored during optimization."
   ]
  },
  {
   "cell_type": "code",
   "execution_count": 10,
   "metadata": {},
   "outputs": [
    {
     "data": {
      "image/png": "[encoded data removed]",
      "text/plain": [
       "<Figure size 864x432 with 1 Axes>"
      ]
     },
     "metadata": {
      "needs_background": "light"
     },
     "output_type": "display_data"
    }
   ],
   "source": [
    "cmap = plt.get_cmap('winter')\n",
    "point_size_ordinal = matplotlib.rcParams['lines.markersize']**1.2\n",
    "\n",
    "\n",
    "branin_scatter_xs = x1[\"values\"]\n",
    "branin_scatter_ys = []\n",
    "for x in branin_scatter_xs:\n",
    "    y = branin_function_1d({'x1': x})\n",
    "    branin_scatter_ys.append(y)\n",
    "plt.scatter(branin_scatter_xs, branin_scatter_ys, s=point_size_ordinal, marker='o', color=\"black\", label=\"1D Ordinal Branin Function\")\n",
    "\n",
    "# Load the points evaluated by HyperMapper during optimization\n",
    "sampled_points = pd.read_csv(\"1d_branin_output_samples.csv\", usecols=['x1', 'value'])\n",
    "x_points = sampled_points['x1'].values\n",
    "y_points = sampled_points['value'].values\n",
    "\n",
    "# Split between DoE and BO\n",
    "doe_x = x_points[:number_of_RS]\n",
    "doe_y = y_points[:number_of_RS]\n",
    "bo_x = x_points[number_of_RS:]\n",
    "bo_y = y_points[number_of_RS:]\n",
    "bo_iterations = list(range(len(bo_x)))\n",
    "optimum = 3\n",
    "\n",
    "plt.scatter(doe_x, doe_y, s=point_size, marker='x', color=\"red\", label=\"Initial Random Sampling\")\n",
    "plt.scatter(optimum, value_at_optimum, s=point_size_optimum, marker='o', color=\"black\", label=\"Minimum\")\n",
    "plt.scatter(bo_x, bo_y, s=point_size, marker='x', c=bo_iterations, cmap=cmap, label=\"Bayesian Otimization\")\n",
    "\n",
    "plt.legend()\n",
    "plt.xlabel(\"x1\")\n",
    "plt.ylabel(\"value\")\n",
    "plt.show()"
   ]
  },
  {
   "cell_type": "markdown",
   "metadata": {},
   "source": [
    "Blue points show points explored during optimization, with brighter points denoting points explored in later iterations.\n",
    "\n",
    "The optimum in this case is at $x_1 = 3$"
   ]
  },
  {
   "cell_type": "markdown",
   "metadata": {},
   "source": [
    "### Example 3: Multi-dimension Function\n",
    "\n",
    "In this example, we are showing how to optimize the Branin function with two input parameters. We use the same branin function we defined in Example 1, but also optimize for $x_2 \\in [0, 15]$."
   ]
  },
  {
   "cell_type": "code",
   "execution_count": 11,
   "metadata": {},
   "outputs": [],
   "source": [
    "def branin_function(X):\n",
    "    # Here the dictionary contains both input values\n",
    "    x1 = X['x1']\n",
    "    x2 = X['x2']\n",
    "    \n",
    "    a = 1.0\n",
    "    b = 5.1 / (4.0 * math.pi * math.pi)\n",
    "    c = 5.0 / math.pi\n",
    "    r = 6.0\n",
    "    s = 10.0\n",
    "    t = 1.0 / (8.0 * math.pi)\n",
    "\n",
    "    value = a * (x2 - b * x1 * x1 + c * x1 - r) ** 2 + s * (1 - t) * math.cos(x1) + s\n",
    "\n",
    "    return value"
   ]
  },
  {
   "cell_type": "markdown",
   "metadata": {},
   "source": [
    "### Setup HyperMapper to Run on 2d Branin"
   ]
  },
  {
   "cell_type": "markdown",
   "metadata": {},
   "source": [
    "We create a json for the new configuration in python and dump it on a file."
   ]
  },
  {
   "cell_type": "code",
   "execution_count": 12,
   "metadata": {},
   "outputs": [],
   "source": [
    "scenario = {}\n",
    "scenario[\"application_name\"] = \"branin\"\n",
    "scenario[\"optimization_objectives\"] = [\"value\"]\n",
    "\n",
    "scenario[\"optimization_iterations\"] = 20\n",
    "scenario[\"models\"] = {}\n",
    "scenario[\"models\"][\"model\"] = \"gaussian_process\"\n",
    "\n",
    "scenario[\"input_parameters\"] = {}\n",
    "x1 = {}\n",
    "x1[\"parameter_type\"] = \"real\"\n",
    "x1[\"values\"] = [-5.0, 10.0]\n",
    "\n",
    "x2 = {}\n",
    "x2[\"parameter_type\"] = \"real\"\n",
    "x2[\"values\"] = [0, 15.0]\n",
    "\n",
    "scenario[\"input_parameters\"][\"x1\"] = x1\n",
    "scenario[\"input_parameters\"][\"x2\"] = x2\n",
    "\n",
    "with open(\"example_branin_scenario.json\", \"w\") as scenario_file:\n",
    "    json.dump(scenario, scenario_file, indent=4)"
   ]
  },
  {
   "cell_type": "markdown",
   "metadata": {},
   "source": [
    "To double check, print the json generated: "
   ]
  },
  {
   "cell_type": "code",
   "execution_count": 13,
   "metadata": {},
   "outputs": [
    {
     "name": "stdout",
     "output_type": "stream",
     "text": [
      "{\n",
      "    \"application_name\": \"branin\",\n",
      "    \"optimization_objectives\": [\n",
      "        \"value\"\n",
      "    ],\n",
      "    \"optimization_iterations\": 20,\n",
      "    \"models\": {\n",
      "        \"model\": \"gaussian_process\"\n",
      "    },\n",
      "    \"input_parameters\": {\n",
      "        \"x1\": {\n",
      "            \"parameter_type\": \"real\",\n",
      "            \"values\": [\n",
      "                -5.0,\n",
      "                10.0\n",
      "            ]\n",
      "        },\n",
      "        \"x2\": {\n",
      "            \"parameter_type\": \"real\",\n",
      "            \"values\": [\n",
      "                0,\n",
      "                15.0\n",
      "            ]\n",
      "        }\n",
      "    }\n",
      "}\n"
     ]
    }
   ],
   "source": [
    "f = open(\"example_branin_scenario.json\", \"r\")\n",
    "text = f.read()\n",
    "print(text, flush=True)\n",
    "f.close()"
   ]
  },
  {
   "cell_type": "markdown",
   "metadata": {},
   "source": [
    "### Run HyperMapper"
   ]
  },
  {
   "cell_type": "code",
   "execution_count": 14,
   "metadata": {
    "scrolled": false
   },
   "outputs": [
    {
     "name": "stdout",
     "output_type": "stream",
     "text": [
      "Design of experiment phase, number of doe samples = 10 .......\n",
      "x1,x2,value,Timestamp\n",
      "7.503004808895632,9.36734800022722,77.88344802359667,2\n",
      "9.68350084210892,14.371821658258096,136.90487886616194,2\n",
      "5.609265091669666,13.942452398185226,181.47688800272365,2\n",
      "6.765657845272257,13.681684337824109,175.66373076354725,2\n",
      "2.030624059829731,12.917102240645493,98.2110412237381,2\n",
      "9.360611520020095,8.28465351341479,34.79531785176041,2\n",
      "5.131903376815233,7.75264250204668,56.39622721563108,2\n",
      "0.06350944542456904,2.082357556606315,34.152892846047436,2\n",
      "6.495404510654378,3.390352204005945,24.574974869732486,2\n",
      "-0.28068836558169696,3.457570127102258,28.222357422362638,2\n",
      "\n",
      "\n",
      "End of doe phase, the number of new configuration runs is: 10\n",
      "\n",
      "Starting optimization iteration 1\n",
      "x1,x2,value,Timestamp\n",
      "10.0,4.4833348804471,4.134660500684269,2359\n",
      "\n",
      "Starting optimization iteration 2\n",
      "x1,x2,value,Timestamp\n",
      "-4.990716046561144,10.63450827414053,55.22805188488444,4698\n",
      "\n",
      "Starting optimization iteration 3\n",
      "x1,x2,value,Timestamp\n",
      "10.0,0.053646434623162625,10.641571145204264,6969\n",
      "\n",
      "Starting optimization iteration 4\n",
      "x1,x2,value,Timestamp\n",
      "10.0,3.8843695362985766,2.720029417978699,9321\n",
      "\n",
      "Starting optimization iteration 5\n",
      "x1,x2,value,Timestamp\n",
      "10.0,2.970420299210302,1.9441992740939682,11690\n",
      "\n",
      "Starting optimization iteration 6\n",
      "x1,x2,value,Timestamp\n",
      "10.0,3.049429346614423,1.945300378579736,13970\n",
      "\n",
      "Starting optimization iteration 7\n",
      "x1,x2,value,Timestamp\n",
      "-4.879052605711332,0.0743340787180693,292.69759886460434,16273\n",
      "\n",
      "Starting optimization iteration 8\n",
      "x1,x2,value,Timestamp\n",
      "-4.348089152148837,15.0,6.710253015891546,18480\n",
      "\n",
      "Starting optimization iteration 9\n",
      "x1,x2,value,Timestamp\n",
      "2.8416438076668706,2.173544635921157,0.9470124161787385,18527\n",
      "\n",
      "Starting optimization iteration 10\n",
      "x1,x2,value,Timestamp\n",
      "2.2400433084009777,3.7277427477350242,4.4584797573436665,20828\n",
      "\n",
      "Starting optimization iteration 11\n",
      "x1,x2,value,Timestamp\n",
      "3.2070079529090716,1.9383566954069225,0.5003243106523865,23212\n",
      "\n",
      "Starting optimization iteration 12\n",
      "x1,x2,value,Timestamp\n",
      "-2.6389120114981326,12.764188017684312,4.3566394800225225,25484\n",
      "\n",
      "Starting optimization iteration 13\n",
      "x1,x2,value,Timestamp\n",
      "4.966976182811518,0.905696110700495,12.559785321959888,28069\n",
      "\n",
      "Starting optimization iteration 14\n",
      "x1,x2,value,Timestamp\n",
      "3.619355033742236,1.9560478832574073,1.4736575649805577,30660\n",
      "\n",
      "Starting optimization iteration 15\n",
      "x1,x2,value,Timestamp\n",
      "-2.2620136818495133,12.600104548165074,9.349803054358711,33302\n",
      "\n",
      "Starting optimization iteration 16\n",
      "x1,x2,value,Timestamp\n",
      "-3.41696992930141,13.642433029308828,1.2438611895067666,35668\n",
      "\n",
      "Starting optimization iteration 17\n",
      "x1,x2,value,Timestamp\n",
      "3.200339595108714,2.1758897042944976,0.41734019393125976,38042\n",
      "\n",
      "Starting optimization iteration 18\n",
      "x1,x2,value,Timestamp\n",
      "3.1344633965073108,2.264816253880292,0.3983794432189942,40562\n",
      "\n",
      "Starting optimization iteration 19\n",
      "x1,x2,value,Timestamp\n",
      "-2.7274104515646918,13.025422931441533,4.180724527293393,43119\n",
      "\n",
      "Starting optimization iteration 20\n",
      "x1,x2,value,Timestamp\n",
      "-3.880880815682181,9.957548228964626,20.24962551082838,45713\n",
      "\n",
      "End of Random Scalarizations\n",
      "### End of the hypermapper script.\n"
     ]
    }
   ],
   "source": [
    "hypermapper.optimize(\"example_branin_scenario.json\", branin_function)\n",
    "sys.stdout = stdout"
   ]
  },
  {
   "cell_type": "markdown",
   "metadata": {},
   "source": [
    "### Visualize Results\n",
    "We visualize the optimization process with a scatterplot of the points explored during optimization."
   ]
  },
  {
   "cell_type": "code",
   "execution_count": 15,
   "metadata": {},
   "outputs": [
    {
     "data": {
      "image/png": "[encoded data removed]",
      "text/plain": [
       "<Figure size 864x432 with 2 Axes>"
      ]
     },
     "metadata": {
      "needs_background": "light"
     },
     "output_type": "display_data"
    }
   ],
   "source": [
    "from matplotlib.lines import Line2D\n",
    "\n",
    "# Plot the value of the Branin function over a grid of the space\n",
    "heatmap_samples = 100\n",
    "x1_heatmap_values = np.linspace(-5, 10, 100)\n",
    "x2_heatmap_values = np.linspace(0, 15, 100)\n",
    "branin_values = np.zeros((heatmap_samples, heatmap_samples), dtype=float)\n",
    "for i, x1 in enumerate(x1_heatmap_values):\n",
    "    for j, x2 in enumerate(x2_heatmap_values):\n",
    "        branin_values[j,i] = branin_function({'x1': x1, 'x2': x2})\n",
    "\n",
    "heat_cmap = plt.get_cmap(\"gist_heat_r\")\n",
    "cf = plt.pcolormesh(x1_heatmap_values, x2_heatmap_values, branin_values, cmap=heat_cmap, alpha=0.5)\n",
    "plt.colorbar(cf)\n",
    "\n",
    "# Load the points evaluated by HyperMapper during optimization\n",
    "sampled_points = pd.read_csv(\"branin_output_samples.csv\", usecols=['x1', 'x2'])\n",
    "x1_points = sampled_points['x1'].values\n",
    "x2_points = sampled_points['x2'].values\n",
    "\n",
    "# Split between DoE and BO\n",
    "doe_x1 = x1_points[:10]\n",
    "doe_x2 = x2_points[:10]\n",
    "bo_x1 = x1_points[10:]\n",
    "bo_x2 = x2_points[10:]\n",
    "bo_iterations = list(range(len(bo_x1)))\n",
    "\n",
    "optima_x1 = [-3.141, 3.141, 9.425]\n",
    "optima_x2 = [12.275, 2.275, 2.475]\n",
    "plt.scatter(optima_x1, optima_x2, s=point_size, marker='x', color=\"black\", label=\"Minima\")\n",
    "plt.scatter(doe_x1, doe_x2, s=point_size**0.8, marker='x', color=\"red\", label=\"Initial Random Sampling\")\n",
    "plt.scatter(bo_x1, bo_x2, s=point_size**0.8, marker='x', c=bo_iterations, cmap=cmap, label=\"Bayesian Otimization\")\n",
    "\n",
    "plt.xlim(min(x1_heatmap_values), max(x1_heatmap_values))\n",
    "plt.ylim(min(x2_heatmap_values), max(x2_heatmap_values))\n",
    "plt.xlabel('x1')\n",
    "plt.ylabel('x2')\n",
    "\n",
    "legend_elements = [\n",
    "    Line2D([0], [0], marker='x', color='red', linestyle='None', label=\"Initial Random Sampling\"),\n",
    "    Line2D([0], [0], marker='x', color='blue', linestyle='None', label=\"Bayesian Optimization\"),\n",
    "    Line2D([0], [0], marker='x', color='black', linestyle='None', label='Minima'),\n",
    "]\n",
    "plt.legend(handles=legend_elements, bbox_to_anchor=(1.75, 1), fancybox=True, shadow=True, ncol=1)\n",
    "\n",
    "plt.show()"
   ]
  },
  {
   "cell_type": "markdown",
   "metadata": {},
   "source": [
    "Blue points show points explored during optimization, with brighter points denoting points explored in later iterations.\n",
    "\n",
    "The Branin function has three optima at $(-\\pi, 12.275)$, $(\\pi, 2.275)$, and $(9.42478, 2.475)$."
   ]
  },
  {
   "cell_type": "markdown",
   "metadata": {},
   "source": [
    "# Advanced Topics"
   ]
  },
  {
   "cell_type": "markdown",
   "metadata": {},
   "source": [
    "### Example 4: Multi-dimension and Multi-objective Function\n",
    "\n",
    "In this example, we are showing how to use HyperMapper to optimize functions with multiple objectives. HyperMapper seamlessly supports any number of objectives, we only have to define the scenario file and our optimization function accordingly.\n",
    "\n",
    "In this example, we will use the [DTLZ1 function](https://www.cs.bham.ac.uk/~jdk/parego/ParEGO-TR3.pdf):\n",
    "- 6 real parameters defined in $[0, 1]$\n",
    "- 2 objectives"
   ]
  },
  {
   "cell_type": "code",
   "execution_count": 16,
   "metadata": {},
   "outputs": [],
   "source": [
    "def dtlz1_function(X):\n",
    "    x1 = X['x1']\n",
    "    x2 = X['x2']\n",
    "    x3 = X['x3']\n",
    "    x4 = X['x4']\n",
    "    x5 = X['x5']\n",
    "    x6 = X['x6']\n",
    "    \n",
    "    g_sum = (x2 - 0.5)**2 + (x3 - 0.5)**2 + (x4 - 0.5)**2 + (x5 - 0.5)**2 + (x6 - 0.5)**2\n",
    "    g_cos = math.cos(2*math.pi*(x2 - 0.5)) + math.cos(2*math.pi*(x3 - 0.5)) + math.cos(2*math.pi*(x4 - 0.5))\\\n",
    "          + math.cos(2*math.pi*(x5 - 0.5)) + math.cos(2*math.pi*(x6 - 0.5))\n",
    "    g = 100*(5 + g_sum - g_cos)\n",
    "    f1_value = 0.5*x1*(1 + g)\n",
    "    f2_value = 0.5*(1 - x1)*(1 + g)\n",
    "\n",
    "    # Since we have multiple objectives, we return a dictionary\n",
    "    output_metrics = {}\n",
    "    output_metrics['f1_value'] = f1_value\n",
    "    output_metrics['f2_value'] = f2_value\n",
    "\n",
    "    return output_metrics"
   ]
  },
  {
   "cell_type": "markdown",
   "metadata": {},
   "source": [
    "This is not a function we can easily visualize because of the multiple input/output dimensions. "
   ]
  },
  {
   "cell_type": "markdown",
   "metadata": {},
   "source": [
    "### Setup HyperMapper to Run on DTLZ1"
   ]
  },
  {
   "cell_type": "markdown",
   "metadata": {},
   "source": [
    "We create the json in python and then dump it on a file: "
   ]
  },
  {
   "cell_type": "code",
   "execution_count": 17,
   "metadata": {},
   "outputs": [],
   "source": [
    "scenario = {}\n",
    "scenario[\"application_name\"] = \"dtlz1\"\n",
    "scenario[\"optimization_objectives\"] = [\"f1_value\", \"f2_value\"]\n",
    "\n",
    "scenario[\"models\"] = {}\n",
    "scenario[\"models\"][\"model\"] = \"gaussian_process\"\n",
    "scenario[\"optimization_iterations\"] = 10\n",
    "\n",
    "\n",
    "scenario[\"input_parameters\"] = {}\n",
    "x1 = {}\n",
    "x1[\"parameter_type\"] = \"real\"\n",
    "x1[\"values\"] = [0, 1]\n",
    "scenario[\"input_parameters\"][\"x1\"] = x1\n",
    "x2 = {}\n",
    "x2[\"parameter_type\"] = \"real\"\n",
    "x2[\"values\"] = [0, 1]\n",
    "scenario[\"input_parameters\"][\"x2\"] = x2\n",
    "x3 = {}\n",
    "x3[\"parameter_type\"] = \"real\"\n",
    "x3[\"values\"] = [0, 1]\n",
    "scenario[\"input_parameters\"][\"x3\"] = x3\n",
    "x4 = {}\n",
    "x4[\"parameter_type\"] = \"real\"\n",
    "x4[\"values\"] = [0, 1]\n",
    "scenario[\"input_parameters\"][\"x4\"] = x4\n",
    "x5 = {}\n",
    "x5[\"parameter_type\"] = \"real\"\n",
    "x5[\"values\"] = [0, 1]\n",
    "scenario[\"input_parameters\"][\"x5\"] = x5\n",
    "x6 = {}\n",
    "x6[\"parameter_type\"] = \"real\"\n",
    "x6[\"values\"] = [0, 1]\n",
    "scenario[\"input_parameters\"][\"x6\"] = x6\n",
    "\n",
    "with open(\"example_dtlz1_scenario.json\", \"w\") as scenario_file:\n",
    "    json.dump(scenario, scenario_file, indent=4)\n"
   ]
  },
  {
   "cell_type": "markdown",
   "metadata": {},
   "source": [
    "To double check, print the json generated:"
   ]
  },
  {
   "cell_type": "code",
   "execution_count": 18,
   "metadata": {
    "scrolled": false
   },
   "outputs": [
    {
     "name": "stdout",
     "output_type": "stream",
     "text": [
      "{\n",
      "    \"application_name\": \"dtlz1\",\n",
      "    \"optimization_objectives\": [\n",
      "        \"f1_value\",\n",
      "        \"f2_value\"\n",
      "    ],\n",
      "    \"models\": {\n",
      "        \"model\": \"gaussian_process\"\n",
      "    },\n",
      "    \"optimization_iterations\": 10,\n",
      "    \"input_parameters\": {\n",
      "        \"x1\": {\n",
      "            \"parameter_type\": \"real\",\n",
      "            \"values\": [\n",
      "                0,\n",
      "                1\n",
      "            ]\n",
      "        },\n",
      "        \"x2\": {\n",
      "            \"parameter_type\": \"real\",\n",
      "            \"values\": [\n",
      "                0,\n",
      "                1\n",
      "            ]\n",
      "        },\n",
      "        \"x3\": {\n",
      "            \"parameter_type\": \"real\",\n",
      "            \"values\": [\n",
      "                0,\n",
      "                1\n",
      "            ]\n",
      "        },\n",
      "        \"x4\": {\n",
      "            \"parameter_type\": \"real\",\n",
      "            \"values\": [\n",
      "                0,\n",
      "                1\n",
      "            ]\n",
      "        },\n",
      "        \"x5\": {\n",
      "            \"parameter_type\": \"real\",\n",
      "            \"values\": [\n",
      "                0,\n",
      "                1\n",
      "            ]\n",
      "        },\n",
      "        \"x6\": {\n",
      "            \"parameter_type\": \"real\",\n",
      "            \"values\": [\n",
      "                0,\n",
      "                1\n",
      "            ]\n",
      "        }\n",
      "    }\n",
      "}\n"
     ]
    }
   ],
   "source": [
    "f = open(\"example_dtlz1_scenario.json\", \"r\")\n",
    "text = f.read()\n",
    "print(text, flush=True)\n",
    "f.close()"
   ]
  },
  {
   "cell_type": "markdown",
   "metadata": {},
   "source": [
    "### Run HyperMapper"
   ]
  },
  {
   "cell_type": "code",
   "execution_count": 19,
   "metadata": {},
   "outputs": [
    {
     "name": "stdout",
     "output_type": "stream",
     "text": [
      "Design of experiment phase, number of doe samples = 10 .......\n",
      "x1,x2,x3,x4,x5,x6,f1_value,f2_value,Timestamp\n",
      "0.06362200617388535,0.2359173001978881,0.2056465473805482,0.08604824838239546,0.4295994124938275,0.7561494118103385,18.335898460981625,269.864671808176,2\n",
      "0.07718881175437599,0.9298796907015403,0.02578005937455443,0.004955305988537923,0.7824726772130823,0.3924937408463391,31.14276070210113,372.31934726765377,2\n",
      "0.9020442818951261,0.021547172338579137,0.8055460520713128,0.6040202883494997,0.754733946671717,0.8992272415640922,313.1068547007436,34.001220795206585,2\n",
      "0.9571100886634882,0.452981172206106,0.9517197334545141,0.8485156532629099,0.196494339834821,0.6938785448475158,288.5608409470287,12.930956459449414,2\n",
      "0.6268165973771678,0.8234184973500985,0.24181980646228612,0.9512796517386912,0.08587374386736522,0.4750584920521854,215.5378135706428,128.32323681081272,2\n",
      "0.8482331947503943,0.04948548583769759,0.4086188096842508,0.6427266969598467,0.5073022470897415,0.688122426129067,143.6647092942074,25.704645953063913,2\n",
      "0.11477489862906354,0.995820702435264,0.3353903625607424,0.07725867192843484,0.15365400441305463,0.3702646709478236,39.3374287790137,303.3980408130509,2\n",
      "0.80332193699967,0.8809715442504801,0.6919134524729605,0.24805990039013812,0.039884643280472365,0.3596003753134277,249.3728803878114,61.05419610806404,2\n",
      "0.4739680672193299,0.025555303715213123,0.9269889046947826,0.811413694696377,0.5384138615878331,0.21994420478816135,167.57449596701227,185.9820146015927,2\n",
      "0.7069791374540716,0.8892325262918596,0.025553298011674254,0.3814528427810961,0.3853099943110419,0.13437213353583496,229.05214847532284,94.93499108889529,2\n",
      "\n",
      "\n",
      "End of doe phase, the number of new configuration runs is: 10\n",
      "\n",
      "Starting optimization iteration 1\n",
      "x1,x2,x3,x4,x5,x6,f1_value,f2_value,Timestamp\n",
      "0.21127200762335935,0.6375610508188189,0.5234715121022171,0.04533416468609079,0.9974384076586441,0.4077335151577621,52.57309413939855,196.26769991942493,6109\n",
      "\n",
      "Starting optimization iteration 2\n",
      "x1,x2,x3,x4,x5,x6,f1_value,f2_value,Timestamp\n",
      "0.36635658350943145,0.016859254895592857,0.0950356151433513,0.1333721748587646,0.5253058079474116,0.3964707362177773,114.67553671613487,198.3406389934049,13166\n",
      "\n",
      "Starting optimization iteration 3\n",
      "x1,x2,x3,x4,x5,x6,f1_value,f2_value,Timestamp\n",
      "0.21162774335818893,0.9232818138906905,0.5983113952188909,0.0824454320463173,0.1151585829483676,0.9327994701037962,87.93003369755155,327.5638533620777,19479\n",
      "\n",
      "Starting optimization iteration 4\n",
      "x1,x2,x3,x4,x5,x6,f1_value,f2_value,Timestamp\n",
      "0.9910509599788773,0.9062287860969913,0.4003511879016635,0.8567051570098307,0.15941129968463424,0.7555412737699568,332.48120247778326,3.002254886376488,26513\n",
      "\n",
      "Starting optimization iteration 5\n",
      "x1,x2,x3,x4,x5,x6,f1_value,f2_value,Timestamp\n",
      "0.1404354334634672,0.6430734920400637,0.28624570257478843,0.006461729332313149,0.868135979846086,0.3336318403641479,40.78425592582729,249.628604418545,32507\n",
      "\n",
      "Starting optimization iteration 6\n",
      "x1,x2,x3,x4,x5,x6,f1_value,f2_value,Timestamp\n",
      "0.8414145220003867,0.9165953091230897,0.45195675887410225,0.5071934013820055,0.5550847730172511,0.9519936868882182,181.72177917530857,34.24998554213596,38481\n",
      "\n",
      "Starting optimization iteration 7\n",
      "x1,x2,x3,x4,x5,x6,f1_value,f2_value,Timestamp\n",
      "0.07965114796447642,0.37395313158770477,0.14477475830591002,0.11137255962003395,0.8217644510034706,0.6780913744090101,24.349792385972492,281.3556871738732,44123\n",
      "\n",
      "Starting optimization iteration 8\n",
      "x1,x2,x3,x4,x5,x6,f1_value,f2_value,Timestamp\n",
      "0.03376675229515102,0.3163324588155018,0.06681193357842581,0.11363499426197234,0.9591340079020799,0.5750796570056447,11.713099987146101,335.1695342905996,49948\n",
      "\n",
      "Starting optimization iteration 9\n",
      "x1,x2,x3,x4,x5,x6,f1_value,f2_value,Timestamp\n",
      "0.07931734812129158,0.5027232789612238,0.11082223274716903,0.11082845840183662,0.8269230547507435,0.13424295513008935,28.624499285441367,332.26123332464243,55831\n",
      "\n",
      "Starting optimization iteration 10\n",
      "x1,x2,x3,x4,x5,x6,f1_value,f2_value,Timestamp\n",
      "1,0.20600944116574713,0.505396290590101,0.6906658179891549,0.07462759113485194,0.761228478239828,262.6895731017052,0.0,63091\n",
      "\n",
      "End of Random Scalarizations\n",
      "### End of the hypermapper script.\n"
     ]
    }
   ],
   "source": [
    "hypermapper.optimize(\"example_scenarios/demo/example_dtlz1_scenario.json\", dtlz1_function)\n",
    "sys.stdout = stdout"
   ]
  },
  {
   "cell_type": "markdown",
   "metadata": {},
   "source": [
    "### Visualize Results\n",
    "\n",
    "This script computes the Pareto front from the output of HyperMapper: "
   ]
  },
  {
   "cell_type": "code",
   "execution_count": 20,
   "metadata": {},
   "outputs": [
    {
     "data": {
      "text/plain": [
       "['######## compute_pareto.py #####################',\n",
       " '### Parameters file is example_scenarios/demo/example_dtlz1_scenario.json',\n",
       " '### The input data file is ./dtlz1_output_samples.csv',\n",
       " '### The output Pareto file is ./dtlz1_output_pareto.csv',\n",
       " '################################################',\n",
       " 'Computing the Pareto...',\n",
       " 'Time to read from file ./dtlz1_output_samples.csv and create the data array is: 0.000239 sec',\n",
       " 'Total time of computation is (read and Pareto computation): 0.008239 seconds',\n",
       " 'The total size of the Pareto (RS + AL) is: 6',\n",
       " 'End of the compute_pareto.py script!',\n",
       " '']"
      ]
     },
     "execution_count": 20,
     "metadata": {},
     "output_type": "execute_result"
    }
   ],
   "source": [
    "!!python3 scripts/compute_pareto.py \"example_scenarios/demo/example_dtlz1_scenario.json\""
   ]
  },
  {
   "cell_type": "markdown",
   "metadata": {},
   "source": [
    "This scripts plot the Pareto front:"
   ]
  },
  {
   "cell_type": "code",
   "execution_count": 21,
   "metadata": {},
   "outputs": [
    {
     "data": {
      "text/plain": [
       "['######### plot_dse.py ##########################',\n",
       " '### Parameters file is example_scenarios/demo/example_dtlz1_scenario.json',\n",
       " '### The Pareto and DSE data files are: ./dtlz1_output_pareto.csv ./dtlz1_output_samples.csv ',\n",
       " '### The first output pdf image is ./dtlz1_output_pareto.pdf',\n",
       " '### The second output pdf image is ./all_dtlz1_output_pareto.pdf',\n",
       " '################################################',\n",
       " 'Loading data from ./dtlz1_output_pareto.csv ...',\n",
       " 'Time to read from file ./dtlz1_output_pareto.csv and create the data array is: 0.000124 sec',\n",
       " \"Parameters are ['x1', 'x2', 'x3', 'x4', 'x5', 'x6', 'f1_value', 'f2_value', 'Timestamp']\",\n",
       " '',\n",
       " 'Size of the data file ./dtlz1_output_pareto.csv is 6',\n",
       " 'Loading data from ./dtlz1_output_samples.csv ...',\n",
       " 'Time to read from file ./dtlz1_output_samples.csv and create the data array is: 0.000241 sec',\n",
       " \"Parameters are ['x1', 'x2', 'x3', 'x4', 'x5', 'x6', 'f1_value', 'f2_value', 'Timestamp']\",\n",
       " '',\n",
       " 'Size of the data file ./dtlz1_output_samples.csv is 20',\n",
       " 'End of the plot_dse script!']"
      ]
     },
     "execution_count": 21,
     "metadata": {},
     "output_type": "execute_result"
    }
   ],
   "source": [
    "!!python3 scripts/plot_dse.py \"example_scenarios/demo/example_dtlz1_scenario.json\""
   ]
  },
  {
   "cell_type": "code",
   "execution_count": 22,
   "metadata": {},
   "outputs": [
    {
     "data": {
      "text/html": [
       "\n",
       "        <iframe\n",
       "            width=\"1000\"\n",
       "            height=\"600\"\n",
       "            src=\"./dtlz1_output_pareto.pdf\"\n",
       "            frameborder=\"0\"\n",
       "            allowfullscreen\n",
       "        ></iframe>\n",
       "        "
      ],
      "text/plain": [
       "<IPython.lib.display.IFrame at 0x7f34cb859a00>"
      ]
     },
     "execution_count": 22,
     "metadata": {},
     "output_type": "execute_result"
    }
   ],
   "source": [
    "from IPython.display import IFrame\n",
    "IFrame(\"./dtlz1_output_pareto.pdf\", width=1000, height=600)"
   ]
  },
  {
   "cell_type": "markdown",
   "metadata": {},
   "source": [
    "### Example 5: Constrained Function\n",
    "\n",
    "In this example, we are showing how to optimize the constrained Chakong-Haimes function:\n",
    "- 2 real parameters defined in $[-20, 20]$\n",
    "- 2 output dimensions\n",
    "\n",
    "The Chakong-Haimes function has two feasibility constraints:\n",
    "\n",
    "$x_1^2 + x_2^2 \\leq 225$\n",
    "\n",
    "$x_1 - 3x_2 + 10 \\leq 0$"
   ]
  },
  {
   "cell_type": "code",
   "execution_count": 23,
   "metadata": {},
   "outputs": [],
   "source": [
    "def chakong_haimes(X):\n",
    "    x1 = X['x1']\n",
    "    x2 = X['x2']\n",
    "    f1_value = 2 + (x1 - 2)*(x1 - 2) + (x2 - 1)*(x2 - 1)\n",
    "    f2_value = 9*x1 - (x2 - 1)*(x2 - 1)\n",
    "\n",
    "    # check constraints\n",
    "    c1 = x1*x1 + x2*x2 <= 225\n",
    "    c2 = x1 - 3*x2 + 10 <= 0\n",
    "    valid = c1 and c2\n",
    "\n",
    "    output = {}\n",
    "    output['f1_value'] = f1_value\n",
    "    output['f2_value'] = f2_value\n",
    "    output['Valid'] = valid\n",
    "\n",
    "    return output"
   ]
  },
  {
   "cell_type": "markdown",
   "metadata": {},
   "source": [
    "### Setup HyperMapper to Run on Chakong-Haimes"
   ]
  },
  {
   "cell_type": "markdown",
   "metadata": {},
   "source": [
    "We create the json in python and then dump it on a file: "
   ]
  },
  {
   "cell_type": "code",
   "execution_count": 24,
   "metadata": {},
   "outputs": [],
   "source": [
    "scenario = {}\n",
    "scenario[\"application_name\"] = \"chakong_haimes\"\n",
    "scenario[\"optimization_objectives\"] = [\"f1_value\", \"f2_value\"]\n",
    "\n",
    "number_of_RS = 20\n",
    "scenario[\"design_of_experiment\"] = {}\n",
    "scenario[\"design_of_experiment\"][\"number_of_samples\"] = number_of_RS\n",
    "\n",
    "scenario[\"models\"] = {}\n",
    "scenario[\"models\"][\"model\"] = \"gaussian_process\"\n",
    "scenario[\"optimization_iterations\"] = 20\n",
    "\n",
    "scenario[\"feasible_output\"] = {}\n",
    "scenario[\"feasible_output\"][\"enable_feasible_predictor\"] = True\n",
    "\n",
    "\n",
    "scenario[\"input_parameters\"] = {}\n",
    "x1 = {}\n",
    "x1[\"parameter_type\"] = \"real\"\n",
    "x1[\"values\"] = [-20, 20]\n",
    "scenario[\"input_parameters\"][\"x1\"] = x1\n",
    "x2 = {}\n",
    "x2[\"parameter_type\"] = \"real\"\n",
    "x2[\"values\"] = [-20, 20]\n",
    "scenario[\"input_parameters\"][\"x2\"] = x2\n",
    "\n",
    "with open(\"example_scenarios/demo/example_chakong_haimes_scenario.json\", \"w\") as scenario_file:\n",
    "    json.dump(scenario, scenario_file, indent=4)"
   ]
  },
  {
   "cell_type": "markdown",
   "metadata": {},
   "source": [
    "To double check, print the json generated:"
   ]
  },
  {
   "cell_type": "code",
   "execution_count": 25,
   "metadata": {},
   "outputs": [
    {
     "name": "stdout",
     "output_type": "stream",
     "text": [
      "{\n",
      "    \"application_name\": \"chakong_haimes\",\n",
      "    \"optimization_objectives\": [\n",
      "        \"f1_value\",\n",
      "        \"f2_value\"\n",
      "    ],\n",
      "    \"design_of_experiment\": {\n",
      "        \"number_of_samples\": 20\n",
      "    },\n",
      "    \"models\": {\n",
      "        \"model\": \"gaussian_process\"\n",
      "    },\n",
      "    \"optimization_iterations\": 20,\n",
      "    \"feasible_output\": {\n",
      "        \"enable_feasible_predictor\": true\n",
      "    },\n",
      "    \"input_parameters\": {\n",
      "        \"x1\": {\n",
      "            \"parameter_type\": \"real\",\n",
      "            \"values\": [\n",
      "                -20,\n",
      "                20\n",
      "            ]\n",
      "        },\n",
      "        \"x2\": {\n",
      "            \"parameter_type\": \"real\",\n",
      "            \"values\": [\n",
      "                -20,\n",
      "                20\n",
      "            ]\n",
      "        }\n",
      "    }\n",
      "}\n"
     ]
    }
   ],
   "source": [
    "f = open(\"example_scenarios/demo/example_chakong_haimes_scenario.json\", \"r\")\n",
    "text = f.read()\n",
    "print(text, flush=True)\n",
    "f.close()"
   ]
  },
  {
   "cell_type": "markdown",
   "metadata": {},
   "source": [
    "### Run HyperMapper"
   ]
  },
  {
   "cell_type": "code",
   "execution_count": 26,
   "metadata": {
    "scrolled": false
   },
   "outputs": [
    {
     "name": "stdout",
     "output_type": "stream",
     "text": [
      "Design of experiment phase, number of doe samples = 20 .......\n",
      "x1,x2,f1_value,f2_value,Valid,Timestamp\n",
      "-18.813325103810456,-10.612806582000104,570.0517785878515,-304.17720264523905,False,2\n",
      "8.351356790522736,-13.084513242903007,240.71324637002945,-123.21130217480555,False,2\n",
      "-5.2050239214605085,-14.835972340444314,304.69038967613557,-297.62323526046197,False,2\n",
      "10.387775475498135,-1.911020822812823,80.82881965821781,85.01593704863336,False,2\n",
      "-0.6240689244853783,13.813389914555366,173.06869882287899,-169.79958142279756,True,2\n",
      "-1.009554905006258,-2.5146812416012096,23.410404956310646,-21.438978375119742,False,2\n",
      "-10.788625046666295,-16.315744116759603,465.3839249013153,-396.9326197370915,False,2\n",
      "-6.200780857982622,2.348009462366477,71.06993619128374,-57.62415723247315,True,2\n",
      "-19.28437373840957,-8.377199769012973,542.956440944276,-261.49123915366306,False,2\n",
      "-8.70252131483136,-12.24199125040944,291.89429477033974,-253.67302410940238,False,2\n",
      "10.391247943682316,-17.802762946151223,425.9569364615101,-260.02266291601654,False,2\n",
      "13.221118551637787,-7.511375882224003,200.35702095841413,46.54654755623565,False,2\n",
      "-4.491594598358329,-2.7399600412592164,58.12810153965068,-54.411652495440606,False,2\n",
      "-9.552136148377272,17.562158236858913,409.7569350533984,-360.274310798149,False,2\n",
      "-17.062014016298157,-12.15617953632497,538.4454383495633,-326.6431861386993,False,2\n",
      "8.335592631185847,-2.4475125049556823,54.025076460162204,63.13499120884682,False,2\n",
      "-1.3676018307439897,-6.117504014192491,63.99960548247649,-62.967279868742125,False,2\n",
      "-6.79262437539337,-14.503569629554892,319.67091466521845,-301.49429063699716,False,2\n",
      "-4.680284037838874,-14.981637307242611,302.0389258464537,-297.53528736079875,False,2\n",
      "14.669039431208532,12.41682543139622,292.8484630404921,1.6774519499013252,False,2\n",
      "\n",
      "\n",
      "End of doe phase, the number of new configuration runs is: 20\n",
      "\n",
      "Starting optimization iteration 1\n",
      "x1,x2,f1_value,f2_value,Valid,Timestamp\n",
      "-6.322354072602227,20,432.2615773097589,-417.90118665342004,False,4710\n",
      "\n",
      "Starting optimization iteration 2\n",
      "x1,x2,f1_value,f2_value,Valid,Timestamp\n",
      "-6.130184147529487,20,429.0998942727398,-416.1716573277654,False,9017\n",
      "\n",
      "Starting optimization iteration 3\n",
      "x1,x2,f1_value,f2_value,Valid,Timestamp\n",
      "2.2345195114363037,0.9256845673750504,2.060522184770556,20.105152819400498,False,13258\n",
      "\n",
      "Starting optimization iteration 4\n",
      "x1,x2,f1_value,f2_value,Valid,Timestamp\n",
      "-6.472260893978017,-19.86675236081128,509.2005587430523,-493.67170213322527,False,17646\n",
      "\n",
      "Starting optimization iteration 5\n",
      "x1,x2,f1_value,f2_value,Valid,Timestamp\n",
      "0.6819348678284456,1.7601352718212517,4.3151013241131855,5.559608178989242,False,22411\n",
      "\n",
      "Starting optimization iteration 6\n",
      "x1,x2,f1_value,f2_value,Valid,Timestamp\n",
      "1.6263684955782836,2.2421838536559306,3.6826212273799337,13.094295733921054,False,27129\n",
      "\n",
      "Starting optimization iteration 7\n",
      "x1,x2,f1_value,f2_value,Valid,Timestamp\n",
      "-0.19192720470008595,2.577653943860007,9.293536837281366,-4.2163368088778075,False,31986\n",
      "\n",
      "Starting optimization iteration 8\n",
      "x1,x2,f1_value,f2_value,Valid,Timestamp\n",
      "-0.5441093612691859,2.3609089050572543,10.324565489961639,-6.749057299286807,False,36214\n",
      "\n",
      "Starting optimization iteration 9\n",
      "x1,x2,f1_value,f2_value,Valid,Timestamp\n",
      "-0.8050476948786986,2.3237542851617796,11.620617978028475,-8.997754661392461,False,40512\n",
      "\n",
      "Starting optimization iteration 10\n",
      "x1,x2,f1_value,f2_value,Valid,Timestamp\n",
      "-0.7094805993055822,1.956680681458277,10.25652304428881,-7.300563320025713,False,44962\n",
      "\n",
      "Starting optimization iteration 11\n",
      "x1,x2,f1_value,f2_value,Valid,Timestamp\n",
      "-0.7202389647994458,2.339619619584038,11.194280750787645,-8.276731408369496,False,49440\n",
      "\n",
      "Starting optimization iteration 12\n",
      "x1,x2,f1_value,f2_value,Valid,Timestamp\n",
      "-0.6321559103158911,2.459776441274041,11.059191994709582,-7.820350451341724,False,53638\n",
      "\n",
      "Starting optimization iteration 13\n",
      "x1,x2,f1_value,f2_value,Valid,Timestamp\n",
      "-0.1672679411097775,2.348009462366477,8.514179839191772,-3.3225409806175557,False,57861\n",
      "\n",
      "Starting optimization iteration 14\n",
      "x1,x2,f1_value,f2_value,Valid,Timestamp\n",
      "-3.4806294695245406,2.7111019084842667,34.96516912343935,-34.25353496693936,True,62396\n",
      "\n",
      "Starting optimization iteration 15\n",
      "x1,x2,f1_value,f2_value,Valid,Timestamp\n",
      "-0.6003560824567344,3.2751020255456282,13.937940982211554,-10.579293968752431,True,66547\n",
      "\n",
      "Starting optimization iteration 16\n",
      "x1,x2,f1_value,f2_value,Valid,Timestamp\n",
      "-0.6003560824567344,4.870370117907406,23.741616605160324,-20.382969591701197,True,70665\n",
      "\n",
      "Starting optimization iteration 17\n",
      "x1,x2,f1_value,f2_value,Valid,Timestamp\n",
      "-2.075234938365547,3.5942572270844586,25.33771036315519,-25.407285005569868,True,75086\n",
      "\n",
      "Starting optimization iteration 18\n",
      "x1,x2,f1_value,f2_value,Valid,Timestamp\n",
      "-0.6024089788114502,3.250557324942889,13.837540765852548,-10.486689082157145,True,79190\n",
      "\n",
      "Starting optimization iteration 19\n",
      "x1,x2,f1_value,f2_value,Valid,Timestamp\n",
      "-2.339072205111165,3.1459998583864426,25.432862993362903,-25.65696523819512,True,83464\n",
      "\n",
      "Starting optimization iteration 20\n",
      "x1,x2,f1_value,f2_value,Valid,Timestamp\n",
      "-1.5489514969051363,3.1152543075055945,19.069357512806178,-18.4148642575672,True,87974\n",
      "\n",
      "End of Random Scalarizations\n",
      "### End of the hypermapper script.\n"
     ]
    }
   ],
   "source": [
    "hypermapper.optimize(\"example_scenarios/demo/example_chakong_haimes_scenario.json\", chakong_haimes)\n",
    "sys.stdout = stdout"
   ]
  },
  {
   "cell_type": "markdown",
   "metadata": {},
   "source": [
    "### Visualize Results\n",
    "We can visualize the optimization process using a Pareto front. \n",
    "\n",
    "The Pareto script computes the Pareto front considering only feasible points: "
   ]
  },
  {
   "cell_type": "code",
   "execution_count": 27,
   "metadata": {},
   "outputs": [
    {
     "data": {
      "text/html": [
       "\n",
       "        <iframe\n",
       "            width=\"1000\"\n",
       "            height=\"600\"\n",
       "            src=\"./chakong_haimes_output_pareto.pdf\"\n",
       "            frameborder=\"0\"\n",
       "            allowfullscreen\n",
       "        ></iframe>\n",
       "        "
      ],
      "text/plain": [
       "<IPython.lib.display.IFrame at 0x7f34f87a9460>"
      ]
     },
     "execution_count": 27,
     "metadata": {},
     "output_type": "execute_result"
    }
   ],
   "source": [
    "!!python3 scripts/compute_pareto.py \"example_scenarios/demo/example_chakong_haimes_scenario.json\"\n",
    "!!python3 scripts/plot_dse.py \"example_scenarios/demo/example_chakong_haimes_scenario.json\"\n",
    "IFrame(\"./chakong_haimes_output_pareto.pdf\", width=1000, height=600)"
   ]
  },
  {
   "cell_type": "code",
   "execution_count": null,
   "metadata": {},
   "outputs": [],
   "source": []
  }
 ],
 "metadata": {
  "kernelspec": {
   "display_name": "Python 3",
   "language": "python",
   "name": "python3"
  },
  "language_info": {
   "codemirror_mode": {
    "name": "ipython",
    "version": 3
   },
   "file_extension": ".py",
   "mimetype": "text/x-python",
   "name": "python",
   "nbconvert_exporter": "python",
   "pygments_lexer": "ipython3",
   "version": "3.8.2"
  }
 },
 "nbformat": 4,
 "nbformat_minor": 2
}
