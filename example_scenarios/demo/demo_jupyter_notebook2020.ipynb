{
 "cells": [
  {
   "cell_type": "markdown",
   "metadata": {},
   "source": [
    "# Demo HyperMapper 2020: \n",
    "# a Practical Design Space Exploration Framework \n",
    "\n",
    "You are looking for a parameter setting that minimizes some performance metric of your algorithm (such as runtime, error, or cost). \n",
    "\n",
    "To use HyperMapper for this purpose you need to tell it about your parameters and how to evaluate your algorithm's performance. "
   ]
  },
  {
   "cell_type": "markdown",
   "metadata": {},
   "source": [
    "### Example 1: The Branin Black-box Function\n",
    "\n",
    "First, we will show how to do this on a running example using a simple 1-dimensional version of the Branin function (https://www.sfu.ca/~ssurjano/branin.html). \n",
    "\n",
    "We look for minimizing the value of this function given the parameter $x_1 \\in [-5, 10]$.\n",
    "\n",
    "Consider the 1-dimensional Branin black-box function evaluation (which depends on the input variables x1), this is the objective we want to minimize:"
   ]
  },
  {
   "cell_type": "code",
   "execution_count": 1,
   "metadata": {},
   "outputs": [],
   "source": [
    "import math\n",
    "def branin_function_1d(X):\n",
    "    # The function must receive a dictionary\n",
    "    x1 = X['x1']\n",
    "    \n",
    "    # Branin function computation\n",
    "    a = 1.0\n",
    "    b = 5.1 / (4.0 * math.pi * math.pi)\n",
    "    c = 5.0 / math.pi\n",
    "    r = 6.0\n",
    "    s = 10.0\n",
    "    t = 1.0 / (8.0 * math.pi)\n",
    "    x2 = 2.275\n",
    "    value = a * (x2 - b * x1 * x1 + c * x1 - r) ** 2 + s * (1 - t) * math.cos(x1) + s\n",
    "\n",
    "    # The function must return the objective value (a number)\n",
    "    return value"
   ]
  },
  {
   "cell_type": "markdown",
   "metadata": {},
   "source": [
    "We can plot the 1D Branin function and visualize the optimum (the minimum):"
   ]
  },
  {
   "cell_type": "code",
   "execution_count": 2,
   "metadata": {},
   "outputs": [
    {
     "data": {
      "image/png": "[encoded data removed]",
      "text/plain": [
       "<Figure size 864x432 with 1 Axes>"
      ]
     },
     "metadata": {
      "needs_background": "light"
     },
     "output_type": "display_data"
    },
    {
     "name": "stdout",
     "output_type": "stream",
     "text": [
      "The 1d Branin function has one global optimum at x1 = π\n",
      "(x, y) at minimum is: (3.141592653589793,0.39788735772973816)\n"
     ]
    }
   ],
   "source": [
    "import matplotlib\n",
    "import matplotlib.pyplot as plt\n",
    "import pandas as pd\n",
    "import numpy as np\n",
    "%matplotlib inline\n",
    "plt.rcParams['figure.figsize'] = [12, 6]\n",
    "plt.rcParams['font.size'] = 18\n",
    "point_size = matplotlib.rcParams['lines.markersize']**2.8\n",
    "point_size_optimum = matplotlib.rcParams['lines.markersize']**2\n",
    "\n",
    "optimum = math.pi\n",
    "value_at_optimum=branin_function_1d({'x1': optimum})\n",
    "\n",
    "# Sample 1000 (x,y) pairs from the function to plot its curve\n",
    "branin_line_xs = np.linspace(-5, 10, 1000)\n",
    "branin_line_ys = []\n",
    "for x in branin_line_xs:\n",
    "    y = branin_function_1d({'x1': x})\n",
    "    branin_line_ys.append(y)\n",
    "plt.plot(branin_line_xs, branin_line_ys, label=\"1D Branin Function\")\n",
    "\n",
    "# Mark the known optimum on the curve\n",
    "plt.scatter(optimum, value_at_optimum, s=point_size_optimum, marker='o', color=\"black\", label=\"Minimum\")\n",
    "\n",
    "plt.legend()\n",
    "plt.xlabel(\"x1\")\n",
    "plt.ylabel(\"value\")\n",
    "plt.show()\n",
    "print(\"The 1d Branin function has one global optimum at x1 = \\u03C0\", flush=True)\n",
    "print(\"(x, y) at minimum is: (\"+str(optimum)+\",\"+str(value_at_optimum)+\")\", flush=True)"
   ]
  },
  {
   "cell_type": "markdown",
   "metadata": {},
   "source": [
    "### Setup HyperMapper to Run on Branin"
   ]
  },
  {
   "cell_type": "markdown",
   "metadata": {},
   "source": [
    "The inputs to HyperMapper specify an instance of the software configuration problem. In this example, we are showing how to optimize the Branin function value with a single dimension. The following is what needs to be specified as a json syntax to run Branin:"
   ]
  },
  {
   "cell_type": "raw",
   "metadata": {},
   "source": [
    "{\n",
    "    \"application_name\": \"1d_branin\",\n",
    "    \"optimization_objectives\": [\"value\"],\n",
    "    \"design_of_experiment\": { \"number_of_samples\": 3 }\n",
    "    \"optimization_iterations\": 10,\n",
    "    \"models\":{\n",
    "        \"model\": \"gaussian_process\"\n",
    "    },\n",
    "    \"input_parameters\" : {\n",
    "        \"x1\": {\n",
    "            \"parameter_type\" : \"real\",\n",
    "            \"values\" : [-5, 10]\n",
    "        }\n",
    "    }\n",
    "}"
   ]
  },
  {
   "cell_type": "markdown",
   "metadata": {},
   "source": [
    "We create the json in python and then dump it on a file: "
   ]
  },
  {
   "cell_type": "code",
   "execution_count": 3,
   "metadata": {},
   "outputs": [],
   "source": [
    "import json\n",
    "scenario = {}\n",
    "scenario[\"application_name\"] = \"1d_branin\"\n",
    "scenario[\"optimization_objectives\"] = [\"value\"]\n",
    "\n",
    "number_of_RS = 3\n",
    "scenario[\"design_of_experiment\"] = {}\n",
    "scenario[\"design_of_experiment\"][\"number_of_samples\"] = number_of_RS\n",
    "\n",
    "scenario[\"optimization_iterations\"] = 10\n",
    "\n",
    "scenario[\"models\"] = {}\n",
    "scenario[\"models\"][\"model\"] = \"gaussian_process\"\n",
    "\n",
    "scenario[\"input_parameters\"] = {}\n",
    "x1 = {}\n",
    "x1[\"parameter_type\"] = \"real\"\n",
    "x1[\"values\"] = [-5, 10]\n",
    "\n",
    "scenario[\"input_parameters\"][\"x1\"] = x1\n",
    "\n",
    "with open(\"example_1d_branin_scenario.json\", \"w\") as scenario_file:\n",
    "    json.dump(scenario, scenario_file, indent=4)\n"
   ]
  },
  {
   "cell_type": "markdown",
   "metadata": {},
   "source": [
    "To double check, print the json generated: "
   ]
  },
  {
   "cell_type": "code",
   "execution_count": 4,
   "metadata": {},
   "outputs": [
    {
     "name": "stdout",
     "output_type": "stream",
     "text": [
      "{\n",
      "    \"application_name\": \"1d_branin\",\n",
      "    \"optimization_objectives\": [\n",
      "        \"value\"\n",
      "    ],\n",
      "    \"design_of_experiment\": {\n",
      "        \"number_of_samples\": 3\n",
      "    },\n",
      "    \"optimization_iterations\": 10,\n",
      "    \"models\": {\n",
      "        \"model\": \"gaussian_process\"\n",
      "    },\n",
      "    \"input_parameters\": {\n",
      "        \"x1\": {\n",
      "            \"parameter_type\": \"real\",\n",
      "            \"values\": [\n",
      "                -5,\n",
      "                10\n",
      "            ]\n",
      "        }\n",
      "    }\n",
      "}\n"
     ]
    }
   ],
   "source": [
    "f = open(\"example_1d_branin_scenario.json\", \"r\")\n",
    "text = f.read()\n",
    "print(text, flush=True)\n",
    "f.close()"
   ]
  },
  {
   "cell_type": "markdown",
   "metadata": {},
   "source": [
    "### Run HyperMapper\n",
    "You are all set to run Branin and HyperMapper together!\n",
    "\n",
    "To optimize the branin function, call HyperMapper's optimize method with the json file and the branin function as parameters:"
   ]
  },
  {
   "cell_type": "code",
   "execution_count": 5,
   "metadata": {
    "scrolled": false
   },
   "outputs": [
    {
     "name": "stdout",
     "output_type": "stream",
     "text": [
      "Design of experiment phase, number of doe samples = 3 .......\n",
      "x1,value,Timestamp\n",
      "-0.40439999078982236,38.09749238776813,2\n",
      "3.1569110995741827,0.399155915642174,2\n",
      "2.4179838939750358,3.203339868272584,2\n",
      "\n",
      "\n",
      "End of doe phase, the number of new configuration runs is: 3\n",
      "\n",
      "Starting optimization iteration 1\n",
      "x1,value,Timestamp\n",
      "6.4602919275709425,20.809860689968918,2250\n",
      "\n",
      "Starting optimization iteration 2\n",
      "x1,value,Timestamp\n",
      "3.0861731053900154,0.4145315688015394,4529\n",
      "\n",
      "Starting optimization iteration 3\n",
      "x1,value,Timestamp\n",
      "10,2.473061481952689,6661\n",
      "\n",
      "Starting optimization iteration 4\n",
      "x1,value,Timestamp\n",
      "-4.996553873735375,234.77427643148204,8930\n",
      "\n",
      "Starting optimization iteration 5\n",
      "x1,value,Timestamp\n",
      "3.1439742694191057,0.3979180366944597,11099\n",
      "\n",
      "Starting optimization iteration 6\n",
      "x1,value,Timestamp\n",
      "3.1395137962057245,0.3979107363499992,13350\n",
      "\n",
      "Starting optimization iteration 7\n",
      "x1,value,Timestamp\n",
      "3.142044123886004,0.3978884602511741,15536\n",
      "\n",
      "Starting optimization iteration 8\n",
      "x1,value,Timestamp\n",
      "3.141740829786956,0.39788747649528666,17692\n",
      "\n",
      "Starting optimization iteration 9\n",
      "x1,value,Timestamp\n",
      "3.143300237476721,0.3979031292068296,19838\n",
      "\n",
      "Starting optimization iteration 10\n",
      "x1,value,Timestamp\n",
      "3.1408239885687586,0.39789055384653516,22103\n",
      "\n",
      "End of Random Scalarizations\n",
      "### End of the hypermapper script.\n"
     ]
    }
   ],
   "source": [
    "import sys\n",
    "import os\n",
    "os.chdir(\"../../\")\n",
    "sys.path.append('scripts')\n",
    "import hypermapper\n",
    "stdout = sys.stdout # Jupyter uses a special stdout and HyperMapper logging overwrites it. Save stdout to restore later\n",
    "\n",
    "# Call HyperMapper to optimize the 1d Branin function\n",
    "hypermapper.optimize(\"example_scenarios/demo/example_1d_branin_scenario.json\", branin_function_1d)\n",
    "sys.stdout = stdout"
   ]
  },
  {
   "cell_type": "markdown",
   "metadata": {},
   "source": [
    "The result of this script is a csv file called \"1d_branin_output_samples.csv\". You can find all the samples explored by HyperMapper during optimization in this file."
   ]
  },
  {
   "cell_type": "markdown",
   "metadata": {},
   "source": [
    "### Visualize Results\n",
    "We can visualize the optimization process with a scatterplot of the points explored during optimization. The code below plots the points explored by HyperMapper during optimization. "
   ]
  },
  {
   "cell_type": "code",
   "execution_count": 6,
   "metadata": {
    "scrolled": false
   },
   "outputs": [
    {
     "data": {
      "image/png": "[encoded data removed]",
      "text/plain": [
       "<Figure size 864x432 with 1 Axes>"
      ]
     },
     "metadata": {
      "needs_background": "light"
     },
     "output_type": "display_data"
    }
   ],
   "source": [
    "cmap = plt.get_cmap('winter')\n",
    "plt.plot(branin_line_xs, branin_line_ys, label=\"1D Branin Function\")\n",
    "\n",
    "# Load the points evaluated by HyperMapper during optimization\n",
    "optimum = math.pi\n",
    "sampled_points = pd.read_csv(\"1d_branin_output_samples.csv\", usecols=['x1', 'value'])\n",
    "x_points = sampled_points['x1'].values\n",
    "y_points = sampled_points['value'].values\n",
    "\n",
    "# Split between DoE and BO\n",
    "doe_x = x_points[:number_of_RS]\n",
    "doe_y = y_points[:number_of_RS]\n",
    "bo_x = x_points[number_of_RS:]\n",
    "bo_y = y_points[number_of_RS:]\n",
    "bo_iterations = list(range(len(bo_x)))\n",
    "\n",
    "plt.scatter(doe_x, doe_y, s=point_size, marker='x', color=\"red\", label=\"Initial Random Sampling\")\n",
    "plt.scatter(optimum, value_at_optimum, s=point_size_optimum, marker='o', color=\"black\", label=\"Minimum\")\n",
    "plt.scatter(bo_x, bo_y, s=point_size, marker='x', c=bo_iterations, cmap=cmap, label=\"Bayesian Otimization\")\n",
    "\n",
    "plt.legend()\n",
    "plt.xlabel(\"x1\")\n",
    "plt.ylabel(\"value\")\n",
    "plt.show()"
   ]
  },
  {
   "cell_type": "markdown",
   "metadata": {},
   "source": [
    "Blue points show points explored during optimization, with brighter points denoting points explored in later iterations. "
   ]
  },
  {
   "cell_type": "markdown",
   "metadata": {
    "collapsed": true
   },
   "source": [
    "### Example 2: Ordinal Input\n",
    "\n",
    "In this example, we are showing how to optimize the Branin function with ordinal inputs. Ordinal parameters are discrete ordered numerical parameters. \n",
    "\n",
    "We use the same Branin function we defined in Example 1, but change the optimization configuration.\n"
   ]
  },
  {
   "cell_type": "markdown",
   "metadata": {},
   "source": [
    "### Setup HyperMapper to Run on Branin with Ordinal Variables"
   ]
  },
  {
   "cell_type": "markdown",
   "metadata": {},
   "source": [
    "We create a json for the new configuration in python and dump it on a file."
   ]
  },
  {
   "cell_type": "code",
   "execution_count": 7,
   "metadata": {},
   "outputs": [],
   "source": [
    "scenario = {}\n",
    "scenario[\"application_name\"] = \"1d_branin\"\n",
    "scenario[\"optimization_objectives\"] = [\"value\"]\n",
    "\n",
    "number_of_RS = 2\n",
    "scenario[\"design_of_experiment\"] = {}\n",
    "scenario[\"design_of_experiment\"][\"number_of_samples\"] = number_of_RS\n",
    "scenario[\"optimization_iterations\"] = 8\n",
    "\n",
    "scenario[\"models\"] = {}\n",
    "scenario[\"models\"][\"model\"] = \"gaussian_process\"\n",
    "\n",
    "scenario[\"input_parameters\"] = {}\n",
    "x1 = {}\n",
    "x1[\"parameter_type\"] = \"ordinal\"\n",
    "x1[\"values\"] = [-5.0, -4.5, -4.0, -3.5, -3.0, -1.5, -1.0, -0.5, 0.0, 2.0, 2.5, 3.0, 3.5, 4.0, 4.5, 5.0, 5.5, 7.0, 7.5,\n",
    "                8.0, 8.5, 9.0, 10.0]\n",
    "\n",
    "scenario[\"input_parameters\"][\"x1\"] = x1\n",
    "\n",
    "with open(\"example_ordinal_1d_branin_scenario.json\", \"w\") as scenario_file:\n",
    "    json.dump(scenario, scenario_file, indent=4)"
   ]
  },
  {
   "cell_type": "markdown",
   "metadata": {},
   "source": [
    "To double check, print the json generated: "
   ]
  },
  {
   "cell_type": "code",
   "execution_count": 8,
   "metadata": {},
   "outputs": [
    {
     "name": "stdout",
     "output_type": "stream",
     "text": [
      "{\n",
      "    \"application_name\": \"1d_branin\",\n",
      "    \"optimization_objectives\": [\n",
      "        \"value\"\n",
      "    ],\n",
      "    \"design_of_experiment\": {\n",
      "        \"number_of_samples\": 2\n",
      "    },\n",
      "    \"optimization_iterations\": 8,\n",
      "    \"models\": {\n",
      "        \"model\": \"gaussian_process\"\n",
      "    },\n",
      "    \"input_parameters\": {\n",
      "        \"x1\": {\n",
      "            \"parameter_type\": \"ordinal\",\n",
      "            \"values\": [\n",
      "                -5.0,\n",
      "                -4.5,\n",
      "                -4.0,\n",
      "                -3.5,\n",
      "                -3.0,\n",
      "                -1.5,\n",
      "                -1.0,\n",
      "                -0.5,\n",
      "                0.0,\n",
      "                2.0,\n",
      "                2.5,\n",
      "                3.0,\n",
      "                3.5,\n",
      "                4.0,\n",
      "                4.5,\n",
      "                5.0,\n",
      "                5.5,\n",
      "                7.0,\n",
      "                7.5,\n",
      "                8.0,\n",
      "                8.5,\n",
      "                9.0,\n",
      "                10.0\n",
      "            ]\n",
      "        }\n",
      "    }\n",
      "}\n"
     ]
    }
   ],
   "source": [
    "f = open(\"example_ordinal_1d_branin_scenario.json\", \"r\")\n",
    "text = f.read()\n",
    "print(text, flush=True)\n",
    "f.close()"
   ]
  },
  {
   "cell_type": "markdown",
   "metadata": {},
   "source": [
    "### Run HyperMapper"
   ]
  },
  {
   "cell_type": "code",
   "execution_count": 9,
   "metadata": {},
   "outputs": [
    {
     "name": "stdout",
     "output_type": "stream",
     "text": [
      "Design of experiment phase, number of doe samples = 2 .......\n",
      "x1,value,Timestamp\n",
      "3.0,0.506752310227002,1\n",
      "8.5,4.439928081572989,1\n",
      "\n",
      "\n",
      "End of doe phase, the number of new configuration runs is: 2\n",
      "\n",
      "Starting optimization iteration 1\n",
      "x1,value,Timestamp\n",
      "5.0,13.730034933787277,45\n",
      "\n",
      "Starting optimization iteration 2\n",
      "x1,value,Timestamp\n",
      "-5.0,235.1022335430727,199\n",
      "\n",
      "Starting optimization iteration 3\n",
      "x1,value,Timestamp\n",
      "3.5,1.0771605292879318,317\n",
      "\n",
      "Starting optimization iteration 4\n",
      "x1,value,Timestamp\n",
      "10.0,2.473061481952689,422\n",
      "\n",
      "Starting optimization iteration 5\n",
      "x1,value,Timestamp\n",
      "-4.5,190.30580997466993,557\n",
      "\n",
      "Starting optimization iteration 6\n",
      "x1,value,Timestamp\n",
      "2.5,2.6137237843308414,693\n",
      "\n",
      "Starting optimization iteration 7\n",
      "x1,value,Timestamp\n",
      "-4.0,151.54424858544886,846\n",
      "\n",
      "Starting optimization iteration 8\n",
      "x1,value,Timestamp\n",
      "5.5,18.060674124988978,983\n",
      "\n",
      "End of Random Scalarizations\n",
      "### End of the hypermapper script.\n"
     ]
    }
   ],
   "source": [
    "hypermapper.optimize(\"example_ordinal_1d_branin_scenario.json\", branin_function_1d)\n",
    "sys.stdout = stdout"
   ]
  },
  {
   "cell_type": "markdown",
   "metadata": {},
   "source": [
    "### Visualize Results\n",
    "We visualize the optimization process with a scatterplot of the points explored during optimization."
   ]
  },
  {
   "cell_type": "code",
   "execution_count": 10,
   "metadata": {},
   "outputs": [
    {
     "data": {
      "image/png": "[encoded data removed]",
      "text/plain": [
       "<Figure size 864x432 with 1 Axes>"
      ]
     },
     "metadata": {
      "needs_background": "light"
     },
     "output_type": "display_data"
    }
   ],
   "source": [
    "cmap = plt.get_cmap('winter')\n",
    "point_size_ordinal = matplotlib.rcParams['lines.markersize']**1.2\n",
    "\n",
    "\n",
    "branin_scatter_xs = x1[\"values\"]\n",
    "branin_scatter_ys = []\n",
    "for x in branin_scatter_xs:\n",
    "    y = branin_function_1d({'x1': x})\n",
    "    branin_scatter_ys.append(y)\n",
    "plt.scatter(branin_scatter_xs, branin_scatter_ys, s=point_size_ordinal, marker='o', color=\"black\", label=\"1D Ordinal Branin Function\")\n",
    "\n",
    "# Load the points evaluated by HyperMapper during optimization\n",
    "sampled_points = pd.read_csv(\"1d_branin_output_samples.csv\", usecols=['x1', 'value'])\n",
    "x_points = sampled_points['x1'].values\n",
    "y_points = sampled_points['value'].values\n",
    "\n",
    "# Split between DoE and BO\n",
    "doe_x = x_points[:number_of_RS]\n",
    "doe_y = y_points[:number_of_RS]\n",
    "bo_x = x_points[number_of_RS:]\n",
    "bo_y = y_points[number_of_RS:]\n",
    "bo_iterations = list(range(len(bo_x)))\n",
    "optimum = 3\n",
    "\n",
    "plt.scatter(doe_x, doe_y, s=point_size, marker='x', color=\"red\", label=\"Initial Random Sampling\")\n",
    "plt.scatter(optimum, value_at_optimum, s=point_size_optimum, marker='o', color=\"black\", label=\"Minimum\")\n",
    "plt.scatter(bo_x, bo_y, s=point_size, marker='x', c=bo_iterations, cmap=cmap, label=\"Bayesian Otimization\")\n",
    "\n",
    "plt.legend()\n",
    "plt.xlabel(\"x1\")\n",
    "plt.ylabel(\"value\")\n",
    "plt.show()"
   ]
  },
  {
   "cell_type": "markdown",
   "metadata": {},
   "source": [
    "Blue points show points explored during optimization, with brighter points denoting points explored in later iterations.\n",
    "\n",
    "The optimum in this case is at $x_1 = 3$"
   ]
  },
  {
   "cell_type": "markdown",
   "metadata": {},
   "source": [
    "### Example 3: Multi-dimension Function\n",
    "\n",
    "In this example, we are showing how to optimize the Branin function with two input parameters. We use the same branin function we defined in Example 1, but also optimize for $x_2 \\in [0, 15]$."
   ]
  },
  {
   "cell_type": "code",
   "execution_count": 11,
   "metadata": {},
   "outputs": [],
   "source": [
    "def branin_function(X):\n",
    "    # Here the dictionary contains both input values\n",
    "    x1 = X['x1']\n",
    "    x2 = X['x2']\n",
    "    \n",
    "    a = 1.0\n",
    "    b = 5.1 / (4.0 * math.pi * math.pi)\n",
    "    c = 5.0 / math.pi\n",
    "    r = 6.0\n",
    "    s = 10.0\n",
    "    t = 1.0 / (8.0 * math.pi)\n",
    "\n",
    "    value = a * (x2 - b * x1 * x1 + c * x1 - r) ** 2 + s * (1 - t) * math.cos(x1) + s\n",
    "\n",
    "    return value"
   ]
  },
  {
   "cell_type": "markdown",
   "metadata": {},
   "source": [
    "### Setup HyperMapper to Run on 2d Branin"
   ]
  },
  {
   "cell_type": "markdown",
   "metadata": {},
   "source": [
    "We create a json for the new configuration in python and dump it on a file."
   ]
  },
  {
   "cell_type": "code",
   "execution_count": 12,
   "metadata": {},
   "outputs": [],
   "source": [
    "scenario = {}\n",
    "scenario[\"application_name\"] = \"branin\"\n",
    "scenario[\"optimization_objectives\"] = [\"value\"]\n",
    "\n",
    "scenario[\"optimization_iterations\"] = 20\n",
    "\n",
    "scenario[\"models\"] = {}\n",
    "scenario[\"models\"][\"model\"] = \"gaussian_process\"\n",
    "\n",
    "scenario[\"input_parameters\"] = {}\n",
    "x1 = {}\n",
    "x1[\"parameter_type\"] = \"real\"\n",
    "x1[\"values\"] = [-5.0, 10.0]\n",
    "\n",
    "x2 = {}\n",
    "x2[\"parameter_type\"] = \"real\"\n",
    "x2[\"values\"] = [0, 15.0]\n",
    "\n",
    "scenario[\"input_parameters\"][\"x1\"] = x1\n",
    "scenario[\"input_parameters\"][\"x2\"] = x2\n",
    "\n",
    "with open(\"example_branin_scenario.json\", \"w\") as scenario_file:\n",
    "    json.dump(scenario, scenario_file, indent=4)"
   ]
  },
  {
   "cell_type": "markdown",
   "metadata": {},
   "source": [
    "To double check, print the json generated: "
   ]
  },
  {
   "cell_type": "code",
   "execution_count": 13,
   "metadata": {},
   "outputs": [
    {
     "name": "stdout",
     "output_type": "stream",
     "text": [
      "{\n",
      "    \"application_name\": \"branin\",\n",
      "    \"optimization_objectives\": [\n",
      "        \"value\"\n",
      "    ],\n",
      "    \"optimization_iterations\": 20,\n",
      "    \"models\": {\n",
      "        \"model\": \"gaussian_process\"\n",
      "    },\n",
      "    \"input_parameters\": {\n",
      "        \"x1\": {\n",
      "            \"parameter_type\": \"real\",\n",
      "            \"values\": [\n",
      "                -5.0,\n",
      "                10.0\n",
      "            ]\n",
      "        },\n",
      "        \"x2\": {\n",
      "            \"parameter_type\": \"real\",\n",
      "            \"values\": [\n",
      "                0,\n",
      "                15.0\n",
      "            ]\n",
      "        }\n",
      "    }\n",
      "}\n"
     ]
    }
   ],
   "source": [
    "f = open(\"example_branin_scenario.json\", \"r\")\n",
    "text = f.read()\n",
    "print(text, flush=True)\n",
    "f.close()"
   ]
  },
  {
   "cell_type": "markdown",
   "metadata": {},
   "source": [
    "### Run HyperMapper"
   ]
  },
  {
   "cell_type": "code",
   "execution_count": 14,
   "metadata": {
    "scrolled": false
   },
   "outputs": [
    {
     "name": "stdout",
     "output_type": "stream",
     "text": [
      "Design of experiment phase, number of doe samples = 10 .......\n",
      "x1,x2,value,Timestamp\n",
      "-1.2148947878853207,6.723055596551478,15.309028067696932,3\n",
      "6.710455764248131,6.481125878438851,47.29659575252186,3\n",
      "1.6007945825293861,8.695018602172873,33.8370037909478,3\n",
      "1.0071035557596355,1.3528708557801112,25.213049930801784,3\n",
      "0.1934654692985882,6.81859973377397,20.681127604285848,3\n",
      "0.3318673103332035,7.773160565531957,24.309078507706392,3\n",
      "5.2045829789328195,0.2748452256545353,15.423273431007969,3\n",
      "6.281753946298792,13.559412595485174,174.84019377949772,3\n",
      "8.1990594862795,14.552738970421052,173.61559950298383,3\n",
      "-2.750060727740514,10.22979539890485,2.3880399555982716,3\n",
      "\n",
      "\n",
      "End of doe phase, the number of new configuration runs is: 10\n",
      "\n",
      "Starting optimization iteration 1\n",
      "x1,x2,value,Timestamp\n",
      "-4.98721646768827,9.818456825184537,66.36499545748526,2465\n",
      "\n",
      "Starting optimization iteration 2\n",
      "x1,x2,value,Timestamp\n",
      "-2.158874838775671,11.109001977946253,5.8200347006608055,4850\n",
      "\n",
      "Starting optimization iteration 3\n",
      "x1,x2,value,Timestamp\n",
      "-2.452086817396838,9.710564465989576,3.5299714869143664,7454\n",
      "\n",
      "Starting optimization iteration 4\n",
      "x1,x2,value,Timestamp\n",
      "10.0,0.02835258949131127,10.791409713206983,10097\n",
      "\n",
      "Starting optimization iteration 5\n",
      "x1,x2,value,Timestamp\n",
      "-2.702803029885234,10.693121410326151,1.6124917867221296,12672\n",
      "\n",
      "Starting optimization iteration 6\n",
      "x1,x2,value,Timestamp\n",
      "-2.7790887010077308,11.254431553492749,1.049587101859979,15087\n",
      "\n",
      "Starting optimization iteration 7\n",
      "x1,x2,value,Timestamp\n",
      "-2.7790887010077308,11.619861282646125,1.0615397709141732,17494\n",
      "\n",
      "Starting optimization iteration 8\n",
      "x1,x2,value,Timestamp\n",
      "-2.8537431368219126,11.51163902323036,0.7997231882230285,20015\n",
      "\n",
      "Starting optimization iteration 9\n",
      "x1,x2,value,Timestamp\n",
      "-2.938373548373105,11.709801155636734,0.6022285555884253,22413\n",
      "\n",
      "Starting optimization iteration 10\n",
      "x1,x2,value,Timestamp\n",
      "-3.078842744205466,12.144426704813961,0.4171744821256276,24954\n",
      "\n",
      "Starting optimization iteration 11\n",
      "x1,x2,value,Timestamp\n",
      "8.127182850276956,0.03607068885371897,9.84871949622223,27507\n",
      "\n",
      "Starting optimization iteration 12\n",
      "x1,x2,value,Timestamp\n",
      "10.0,4.993708072298918,5.906232066608476,30008\n",
      "\n",
      "Starting optimization iteration 13\n",
      "x1,x2,value,Timestamp\n",
      "-3.134373913788477,12.395841237647522,0.41723204552936366,32605\n",
      "\n",
      "Starting optimization iteration 14\n",
      "x1,x2,value,Timestamp\n",
      "-4.9820324321970215,0.13600638984361635,301.5438645293581,35087\n",
      "\n",
      "Starting optimization iteration 15\n",
      "x1,x2,value,Timestamp\n",
      "-3.184538180034971,12.354878758475685,0.4072961181209216,37716\n",
      "\n",
      "Starting optimization iteration 16\n",
      "x1,x2,value,Timestamp\n",
      "6.3207318092337825,14.037416061766349,186.93644510828173,37787\n",
      "\n",
      "Starting optimization iteration 17\n",
      "x1,x2,value,Timestamp\n",
      "-3.1528671042323166,12.262716542302407,0.4000496018358053,40393\n",
      "\n",
      "Starting optimization iteration 18\n",
      "x1,x2,value,Timestamp\n",
      "-3.0836441957207805,7.7482708293163745,19.66766205306932,43545\n",
      "\n",
      "Starting optimization iteration 19\n",
      "x1,x2,value,Timestamp\n",
      "-3.1528671042323166,12.288471832061393,0.3986836731036618,46474\n",
      "\n",
      "Starting optimization iteration 20\n",
      "x1,x2,value,Timestamp\n",
      "-0.7972207581436619,11.046737311672961,30.3680333889761,49401\n",
      "\n",
      "End of Random Scalarizations\n",
      "### End of the hypermapper script.\n"
     ]
    }
   ],
   "source": [
    "hypermapper.optimize(\"example_branin_scenario.json\", branin_function)\n",
    "sys.stdout = stdout"
   ]
  },
  {
   "cell_type": "markdown",
   "metadata": {},
   "source": [
    "### Visualize Results\n",
    "We visualize the optimization process with a scatterplot of the points explored during optimization."
   ]
  },
  {
   "cell_type": "code",
   "execution_count": 15,
   "metadata": {},
   "outputs": [
    {
     "data": {
      "image/png": "[encoded data removed]",
      "text/plain": [
       "<Figure size 864x432 with 2 Axes>"
      ]
     },
     "metadata": {
      "needs_background": "light"
     },
     "output_type": "display_data"
    }
   ],
   "source": [
    "from matplotlib.lines import Line2D\n",
    "\n",
    "# Plot the value of the Branin function over a grid of the space\n",
    "heatmap_samples = 100\n",
    "x1_heatmap_values = np.linspace(-5, 10, 100)\n",
    "x2_heatmap_values = np.linspace(0, 15, 100)\n",
    "branin_values = np.zeros((heatmap_samples, heatmap_samples), dtype=float)\n",
    "for i, x1 in enumerate(x1_heatmap_values):\n",
    "    for j, x2 in enumerate(x2_heatmap_values):\n",
    "        branin_values[j,i] = branin_function({'x1': x1, 'x2': x2})\n",
    "\n",
    "heat_cmap = plt.get_cmap(\"gist_heat_r\")\n",
    "cf = plt.pcolormesh(x1_heatmap_values, x2_heatmap_values, branin_values, cmap=heat_cmap, alpha=0.5)\n",
    "plt.colorbar(cf)\n",
    "\n",
    "# Load the points evaluated by HyperMapper during optimization\n",
    "sampled_points = pd.read_csv(\"branin_output_samples.csv\", usecols=['x1', 'x2'])\n",
    "x1_points = sampled_points['x1'].values\n",
    "x2_points = sampled_points['x2'].values\n",
    "\n",
    "# Split between DoE and BO\n",
    "doe_x1 = x1_points[:10]\n",
    "doe_x2 = x2_points[:10]\n",
    "bo_x1 = x1_points[10:]\n",
    "bo_x2 = x2_points[10:]\n",
    "bo_iterations = list(range(len(bo_x1)))\n",
    "\n",
    "optima_x1 = [-3.141, 3.141, 9.425]\n",
    "optima_x2 = [12.275, 2.275, 2.475]\n",
    "plt.scatter(optima_x1, optima_x2, s=point_size, marker='x', color=\"black\", label=\"Minima\")\n",
    "plt.scatter(doe_x1, doe_x2, s=point_size**0.8, marker='x', color=\"red\", label=\"Initial Random Sampling\")\n",
    "plt.scatter(bo_x1, bo_x2, s=point_size**0.8, marker='x', c=bo_iterations, cmap=cmap, label=\"Bayesian Otimization\")\n",
    "\n",
    "plt.xlim(min(x1_heatmap_values), max(x1_heatmap_values))\n",
    "plt.ylim(min(x2_heatmap_values), max(x2_heatmap_values))\n",
    "plt.xlabel('x1')\n",
    "plt.ylabel('x2')\n",
    "\n",
    "legend_elements = [\n",
    "    Line2D([0], [0], marker='x', color='red', linestyle='None', label=\"Initial Random Sampling\"),\n",
    "    Line2D([0], [0], marker='x', color='blue', linestyle='None', label=\"Bayesian Optimization\"),\n",
    "    Line2D([0], [0], marker='x', color='black', linestyle='None', label='Minima'),\n",
    "]\n",
    "plt.legend(handles=legend_elements, bbox_to_anchor=(1.75, 1), fancybox=True, shadow=True, ncol=1)\n",
    "\n",
    "plt.show()"
   ]
  },
  {
   "cell_type": "markdown",
   "metadata": {},
   "source": [
    "Blue points show points explored during optimization, with brighter points denoting points explored in later iterations.\n",
    "\n",
    "The Branin function has three optima at $(-\\pi, 12.275)$, $(\\pi, 2.275)$, and $(9.42478, 2.475)$."
   ]
  },
  {
   "cell_type": "markdown",
   "metadata": {},
   "source": [
    "# Advanced Topics"
   ]
  },
  {
   "cell_type": "markdown",
   "metadata": {},
   "source": [
    "### Example 4: Multi-dimension and Multi-objective Function\n",
    "\n",
    "In this example, we are showing how to use HyperMapper to optimize functions with multiple objectives. HyperMapper seamlessly supports any number of objectives, we only have to define the scenario file and our optimization function accordingly.\n",
    "\n",
    "In this example, we will use the [DTLZ1 function](https://www.cs.bham.ac.uk/~jdk/parego/ParEGO-TR3.pdf):\n",
    "- 6 real parameters defined in $[0, 1]$\n",
    "- 2 objectives"
   ]
  },
  {
   "cell_type": "code",
   "execution_count": 16,
   "metadata": {},
   "outputs": [],
   "source": [
    "def dtlz1_function(X):\n",
    "    x1 = X['x1']\n",
    "    x2 = X['x2']\n",
    "    x3 = X['x3']\n",
    "    x4 = X['x4']\n",
    "    x5 = X['x5']\n",
    "    x6 = X['x6']\n",
    "    \n",
    "    g_sum = (x2 - 0.5)**2 + (x3 - 0.5)**2 + (x4 - 0.5)**2 + (x5 - 0.5)**2 + (x6 - 0.5)**2\n",
    "    g_cos = math.cos(2*math.pi*(x2 - 0.5)) + math.cos(2*math.pi*(x3 - 0.5)) + math.cos(2*math.pi*(x4 - 0.5))\\\n",
    "          + math.cos(2*math.pi*(x5 - 0.5)) + math.cos(2*math.pi*(x6 - 0.5))\n",
    "    g = 100*(5 + g_sum - g_cos)\n",
    "    f1_value = 0.5*x1*(1 + g)\n",
    "    f2_value = 0.5*(1 - x1)*(1 + g)\n",
    "\n",
    "    # Since we have multiple objectives, we return a dictionary\n",
    "    output_metrics = {}\n",
    "    output_metrics['f1_value'] = f1_value\n",
    "    output_metrics['f2_value'] = f2_value\n",
    "\n",
    "    return output_metrics"
   ]
  },
  {
   "cell_type": "markdown",
   "metadata": {},
   "source": [
    "This is not a function we can easily visualize because of the multiple input/output dimensions. "
   ]
  },
  {
   "cell_type": "markdown",
   "metadata": {},
   "source": [
    "### Setup HyperMapper to Run on DTLZ1"
   ]
  },
  {
   "cell_type": "markdown",
   "metadata": {},
   "source": [
    "We create the json in python and then dump it on a file: "
   ]
  },
  {
   "cell_type": "code",
   "execution_count": 17,
   "metadata": {},
   "outputs": [],
   "source": [
    "scenario = {}\n",
    "scenario[\"application_name\"] = \"dtlz1\"\n",
    "scenario[\"optimization_objectives\"] = [\"f1_value\", \"f2_value\"]\n",
    "\n",
    "scenario[\"models\"] = {}\n",
    "scenario[\"models\"][\"model\"] = \"gaussian_process\"\n",
    "scenario[\"optimization_iterations\"] = 10\n",
    "\n",
    "\n",
    "scenario[\"input_parameters\"] = {}\n",
    "x1 = {}\n",
    "x1[\"parameter_type\"] = \"real\"\n",
    "x1[\"values\"] = [0, 1]\n",
    "scenario[\"input_parameters\"][\"x1\"] = x1\n",
    "x2 = {}\n",
    "x2[\"parameter_type\"] = \"real\"\n",
    "x2[\"values\"] = [0, 1]\n",
    "scenario[\"input_parameters\"][\"x2\"] = x2\n",
    "x3 = {}\n",
    "x3[\"parameter_type\"] = \"real\"\n",
    "x3[\"values\"] = [0, 1]\n",
    "scenario[\"input_parameters\"][\"x3\"] = x3\n",
    "x4 = {}\n",
    "x4[\"parameter_type\"] = \"real\"\n",
    "x4[\"values\"] = [0, 1]\n",
    "scenario[\"input_parameters\"][\"x4\"] = x4\n",
    "x5 = {}\n",
    "x5[\"parameter_type\"] = \"real\"\n",
    "x5[\"values\"] = [0, 1]\n",
    "scenario[\"input_parameters\"][\"x5\"] = x5\n",
    "x6 = {}\n",
    "x6[\"parameter_type\"] = \"real\"\n",
    "x6[\"values\"] = [0, 1]\n",
    "scenario[\"input_parameters\"][\"x6\"] = x6\n",
    "\n",
    "with open(\"example_scenarios/demo/example_dtlz1_scenario.json\", \"w\") as scenario_file:\n",
    "    json.dump(scenario, scenario_file, indent=4)\n"
   ]
  },
  {
   "cell_type": "markdown",
   "metadata": {},
   "source": [
    "To double check, print the json generated:"
   ]
  },
  {
   "cell_type": "code",
   "execution_count": 18,
   "metadata": {
    "scrolled": false
   },
   "outputs": [
    {
     "name": "stdout",
     "output_type": "stream",
     "text": [
      "{\n",
      "    \"application_name\": \"dtlz1\",\n",
      "    \"optimization_objectives\": [\n",
      "        \"f1_value\",\n",
      "        \"f2_value\"\n",
      "    ],\n",
      "    \"models\": {\n",
      "        \"model\": \"gaussian_process\"\n",
      "    },\n",
      "    \"optimization_iterations\": 10,\n",
      "    \"input_parameters\": {\n",
      "        \"x1\": {\n",
      "            \"parameter_type\": \"real\",\n",
      "            \"values\": [\n",
      "                0,\n",
      "                1\n",
      "            ]\n",
      "        },\n",
      "        \"x2\": {\n",
      "            \"parameter_type\": \"real\",\n",
      "            \"values\": [\n",
      "                0,\n",
      "                1\n",
      "            ]\n",
      "        },\n",
      "        \"x3\": {\n",
      "            \"parameter_type\": \"real\",\n",
      "            \"values\": [\n",
      "                0,\n",
      "                1\n",
      "            ]\n",
      "        },\n",
      "        \"x4\": {\n",
      "            \"parameter_type\": \"real\",\n",
      "            \"values\": [\n",
      "                0,\n",
      "                1\n",
      "            ]\n",
      "        },\n",
      "        \"x5\": {\n",
      "            \"parameter_type\": \"real\",\n",
      "            \"values\": [\n",
      "                0,\n",
      "                1\n",
      "            ]\n",
      "        },\n",
      "        \"x6\": {\n",
      "            \"parameter_type\": \"real\",\n",
      "            \"values\": [\n",
      "                0,\n",
      "                1\n",
      "            ]\n",
      "        }\n",
      "    }\n",
      "}\n"
     ]
    }
   ],
   "source": [
    "f = open(\"example_scenarios/demo/example_dtlz1_scenario.json\", \"r\")\n",
    "text = f.read()\n",
    "print(text, flush=True)\n",
    "f.close()"
   ]
  },
  {
   "cell_type": "markdown",
   "metadata": {},
   "source": [
    "### Run HyperMapper"
   ]
  },
  {
   "cell_type": "code",
   "execution_count": 19,
   "metadata": {},
   "outputs": [
    {
     "name": "stdout",
     "output_type": "stream",
     "text": [
      "Design of experiment phase, number of doe samples = 10 .......\n",
      "x1,x2,x3,x4,x5,x6,f1_value,f2_value,Timestamp\n",
      "0.44852866727629986,0.8116089619699272,0.25894246704221696,0.5515238910245193,0.5919009875162068,0.004083981140908049,111.1754184192695,136.6914996405831,4\n",
      "0.26740123672967153,0.5094858600508388,0.5947836508688286,0.011714407092181264,0.3856208749718746,0.3620264335896813,40.9253913906902,112.1232328086945,4\n",
      "0.11381308991463218,0.6583884730837537,0.548179303239272,0.46044821051387663,0.9738285651658183,0.7434683523490367,21.624985503254663,168.37939377750226,4\n",
      "0.5390000935226449,0.9256358036918805,0.448757710883173,0.19901074816487727,0.1986705355021956,0.19844011690806926,171.41598404947356,146.6099052025696,4\n",
      "0.28526305147236347,0.19231774990006048,0.9313707795457434,0.9457314433207913,0.746708915575537,0.41601449796480044,98.10384899794043,245.80276102948827,4\n",
      "0.5520387868155779,0.6506656625439097,0.20994867671897477,0.7776822502267836,0.4005402985675209,0.8094557119494113,129.4859477312591,105.0735629839129,4\n",
      "0.7272992809780011,0.8803566795313998,0.6866177906647902,0.7576927918475949,0.031146502105301954,0.7334622880618382,247.22499747786708,92.69696304631084,4\n",
      "0.37145657349534994,0.9767483088565584,0.6555901653796027,0.15079341069827293,0.17934348594426483,0.04785563782753733,150.24338757434796,254.22754737393012,4\n",
      "0.2431874939428183,0.6297683947287344,0.5123735305956654,0.9490802769574037,0.4960991390660765,0.028553901668931493,57.171685056872555,177.9213459618836,4\n",
      "0.864995990412087,0.17145489238919873,0.12322919707587827,0.3172092145302492,0.5987564696033983,0.680066345833935,210.85597708871438,32.909288214147765,4\n",
      "\n",
      "\n",
      "End of doe phase, the number of new configuration runs is: 10\n",
      "\n",
      "Starting optimization iteration 1\n",
      "x1,x2,x3,x4,x5,x6,f1_value,f2_value,Timestamp\n",
      "0.08273860458263023,0.406164679156614,0.10319540776371171,0.9448189539675969,0.6281211119311161,0.6537826234010946,20.929001097333497,232.0242751019516,5633\n",
      "\n",
      "Starting optimization iteration 2\n",
      "x1,x2,x3,x4,x5,x6,f1_value,f2_value,Timestamp\n",
      "0.0024178596625839964,0.6253420594528967,0.07542700676762809,0.11812785144762851,1,0.6672847616609716,0.85281787166458,351.8632164217249,12408\n",
      "\n",
      "Starting optimization iteration 3\n",
      "x1,x2,x3,x4,x5,x6,f1_value,f2_value,Timestamp\n",
      "0.8381255633745411,0.2903103899340618,0.17046187991071682,0.5758426868351418,0.6785565234619152,0.7452107921192557,173.337475291308,33.47816530722012,18938\n",
      "\n",
      "Starting optimization iteration 4\n",
      "x1,x2,x3,x4,x5,x6,f1_value,f2_value,Timestamp\n",
      "0.00018707217529057807,0.5374298350023463,0.3690725164867755,0.017690718225079883,0.6606133390576213,0.19442964402579505,0.04238066101144456,226.50473114551426,24929\n",
      "\n",
      "Starting optimization iteration 5\n",
      "x1,x2,x3,x4,x5,x6,f1_value,f2_value,Timestamp\n",
      "0.00018707217529057807,0.5374298350023463,0.3690725164867755,0.017690718225079883,1,0.19442964402579505,0.05881282248258177,314.3269176648449,31043\n",
      "\n",
      "Starting optimization iteration 6\n",
      "x1,x2,x3,x4,x5,x6,f1_value,f2_value,Timestamp\n",
      "0.00018707217529057807,0.5374298350023463,0.3690725164867755,0.017690718225079883,0.8061375497884709,0.19442964402579505,0.05122867606411582,273.79321657370446,37426\n",
      "\n",
      "Starting optimization iteration 7\n",
      "x1,x2,x3,x4,x5,x6,f1_value,f2_value,Timestamp\n",
      "0.844904111859286,0.4468111783541009,0.16285778041085394,0.41443869145732587,0.5860050696512697,0.698390261851783,114.96628066496481,21.103930204256038,44141\n",
      "\n",
      "Starting optimization iteration 8\n",
      "x1,x2,x3,x4,x5,x6,f1_value,f2_value,Timestamp\n",
      "0.8225267150685294,0.9005545026559016,0.20623653251025903,0.36879385885461036,0.4646915607313634,0.7881843169807771,206.61720943882995,44.58096522667681,51017\n",
      "\n",
      "Starting optimization iteration 9\n",
      "x1,x2,x3,x4,x5,x6,f1_value,f2_value,Timestamp\n",
      "0.0028456221490362806,0.7747431645589915,0.12805423216694597,0.4586440811216495,0.7541414371211894,1,0.9174233168392911,321.4807268205542,57738\n",
      "\n",
      "Starting optimization iteration 10\n",
      "x1,x2,x3,x4,x5,x6,f1_value,f2_value,Timestamp\n",
      "0.00018707217529057807,0.6687744110417813,0.4005432117455156,0.017690718225079883,0.6606133390576213,1,0.05348907199446473,285.8739713393707,64330\n",
      "\n",
      "End of Random Scalarizations\n",
      "### End of the hypermapper script.\n"
     ]
    }
   ],
   "source": [
    "hypermapper.optimize(\"example_scenarios/demo/example_dtlz1_scenario.json\", dtlz1_function)\n",
    "sys.stdout = stdout"
   ]
  },
  {
   "cell_type": "markdown",
   "metadata": {},
   "source": [
    "### Visualize Results\n",
    "\n",
    "This script computes the Pareto front from the output of HyperMapper: "
   ]
  },
  {
   "cell_type": "code",
   "execution_count": 20,
   "metadata": {},
   "outputs": [
    {
     "data": {
      "text/plain": [
       "['######## compute_pareto.py #####################',\n",
       " '### Parameters file is example_scenarios/demo/example_dtlz1_scenario.json',\n",
       " '### The input data file is ./dtlz1_output_samples.csv',\n",
       " '### The output Pareto file is ./dtlz1_output_pareto.csv',\n",
       " '################################################',\n",
       " 'Computing the Pareto...',\n",
       " 'Time to read from file ./dtlz1_output_samples.csv and create the data array is: 0.000279 sec',\n",
       " 'Total time of computation is (read and Pareto computation): 0.009557 seconds',\n",
       " 'The total size of the Pareto (RS + AL) is: 4',\n",
       " 'End of the compute_pareto.py script!',\n",
       " '']"
      ]
     },
     "execution_count": 20,
     "metadata": {},
     "output_type": "execute_result"
    }
   ],
   "source": [
    "!!python3 scripts/compute_pareto.py \"example_scenarios/demo/example_dtlz1_scenario.json\""
   ]
  },
  {
   "cell_type": "markdown",
   "metadata": {},
   "source": [
    "This scripts plot the Pareto front:"
   ]
  },
  {
   "cell_type": "code",
   "execution_count": 21,
   "metadata": {},
   "outputs": [
    {
     "data": {
      "text/plain": [
       "['######### plot_dse.py ##########################',\n",
       " '### Parameters file is example_scenarios/demo/example_dtlz1_scenario.json',\n",
       " '### The Pareto and DSE data files are: ./dtlz1_output_pareto.csv ./dtlz1_output_samples.csv ',\n",
       " '### The first output pdf image is example_scenarios/demo/dtlz1_output_pareto.pdf',\n",
       " '### The second output pdf image is example_scenarios/demo/all_dtlz1_output_pareto.pdf',\n",
       " '################################################',\n",
       " 'Loading data from ./dtlz1_output_pareto.csv ...',\n",
       " 'Time to read from file ./dtlz1_output_pareto.csv and create the data array is: 0.000101 sec',\n",
       " \"Parameters are ['x1', 'x2', 'x3', 'x4', 'x5', 'x6', 'f1_value', 'f2_value', 'Timestamp']\",\n",
       " '',\n",
       " 'Size of the data file ./dtlz1_output_pareto.csv is 4',\n",
       " 'Loading data from ./dtlz1_output_samples.csv ...',\n",
       " 'Time to read from file ./dtlz1_output_samples.csv and create the data array is: 0.000279 sec',\n",
       " \"Parameters are ['x1', 'x2', 'x3', 'x4', 'x5', 'x6', 'f1_value', 'f2_value', 'Timestamp']\",\n",
       " '',\n",
       " 'Size of the data file ./dtlz1_output_samples.csv is 20',\n",
       " 'End of the plot_dse script!']"
      ]
     },
     "execution_count": 21,
     "metadata": {},
     "output_type": "execute_result"
    }
   ],
   "source": [
    "!!python3 scripts/plot_dse.py \"example_scenarios/demo/example_dtlz1_scenario.json\" \"example_scenarios/demo/dtlz1_output_pareto.pdf\""
   ]
  },
  {
   "cell_type": "code",
   "execution_count": 22,
   "metadata": {},
   "outputs": [
    {
     "data": {
      "text/html": [
       "\n",
       "        <iframe\n",
       "            width=\"1000\"\n",
       "            height=\"600\"\n",
       "            src=\"dtlz1_output_pareto.pdf\"\n",
       "            frameborder=\"0\"\n",
       "            allowfullscreen\n",
       "        ></iframe>\n",
       "        "
      ],
      "text/plain": [
       "<IPython.lib.display.IFrame at 0x7f7daaff41f0>"
      ]
     },
     "execution_count": 22,
     "metadata": {},
     "output_type": "execute_result"
    }
   ],
   "source": [
    "from IPython.display import IFrame\n",
    "IFrame(\"dtlz1_output_pareto.pdf\", width=1000, height=600)"
   ]
  },
  {
   "cell_type": "markdown",
   "metadata": {},
   "source": [
    "### Example 5: Constrained Function\n",
    "\n",
    "In this example, we are showing how to optimize the constrained Chakong-Haimes function:\n",
    "- 2 real parameters defined in $[-20, 20]$\n",
    "- 2 output dimensions\n",
    "\n",
    "The Chakong-Haimes function has two feasibility constraints:\n",
    "\n",
    "$x_1^2 + x_2^2 \\leq 225$\n",
    "\n",
    "$x_1 - 3x_2 + 10 \\leq 0$"
   ]
  },
  {
   "cell_type": "code",
   "execution_count": 23,
   "metadata": {},
   "outputs": [],
   "source": [
    "def chakong_haimes(X):\n",
    "    x1 = X['x1']\n",
    "    x2 = X['x2']\n",
    "    f1_value = 2 + (x1 - 2)*(x1 - 2) + (x2 - 1)*(x2 - 1)\n",
    "    f2_value = 9*x1 - (x2 - 1)*(x2 - 1)\n",
    "\n",
    "    # check constraints\n",
    "    c1 = x1*x1 + x2*x2 <= 225\n",
    "    c2 = x1 - 3*x2 + 10 <= 0\n",
    "    valid = c1 and c2\n",
    "\n",
    "    output = {}\n",
    "    output['f1_value'] = f1_value\n",
    "    output['f2_value'] = f2_value\n",
    "    output['Valid'] = valid\n",
    "\n",
    "    return output"
   ]
  },
  {
   "cell_type": "markdown",
   "metadata": {},
   "source": [
    "### Setup HyperMapper to Run on Chakong-Haimes"
   ]
  },
  {
   "cell_type": "markdown",
   "metadata": {},
   "source": [
    "We create the json in python and then dump it on a file: "
   ]
  },
  {
   "cell_type": "code",
   "execution_count": 24,
   "metadata": {},
   "outputs": [],
   "source": [
    "scenario = {}\n",
    "scenario[\"application_name\"] = \"chakong_haimes\"\n",
    "scenario[\"optimization_objectives\"] = [\"f1_value\", \"f2_value\"]\n",
    "\n",
    "number_of_RS = 20\n",
    "scenario[\"design_of_experiment\"] = {}\n",
    "scenario[\"design_of_experiment\"][\"number_of_samples\"] = number_of_RS\n",
    "scenario[\"optimization_iterations\"] = 20\n",
    "\n",
    "scenario[\"models\"] = {}\n",
    "scenario[\"models\"][\"model\"] = \"gaussian_process\"\n",
    "\n",
    "scenario[\"feasible_output\"] = {}\n",
    "scenario[\"feasible_output\"][\"enable_feasible_predictor\"] = True\n",
    "\n",
    "\n",
    "scenario[\"input_parameters\"] = {}\n",
    "x1 = {}\n",
    "x1[\"parameter_type\"] = \"real\"\n",
    "x1[\"values\"] = [-20, 20]\n",
    "scenario[\"input_parameters\"][\"x1\"] = x1\n",
    "x2 = {}\n",
    "x2[\"parameter_type\"] = \"real\"\n",
    "x2[\"values\"] = [-20, 20]\n",
    "scenario[\"input_parameters\"][\"x2\"] = x2\n",
    "\n",
    "with open(\"example_scenarios/demo/example_chakong_haimes_scenario.json\", \"w\") as scenario_file:\n",
    "    json.dump(scenario, scenario_file, indent=4)"
   ]
  },
  {
   "cell_type": "markdown",
   "metadata": {},
   "source": [
    "To double check, print the json generated:"
   ]
  },
  {
   "cell_type": "code",
   "execution_count": 25,
   "metadata": {},
   "outputs": [
    {
     "name": "stdout",
     "output_type": "stream",
     "text": [
      "{\n",
      "    \"application_name\": \"chakong_haimes\",\n",
      "    \"optimization_objectives\": [\n",
      "        \"f1_value\",\n",
      "        \"f2_value\"\n",
      "    ],\n",
      "    \"design_of_experiment\": {\n",
      "        \"number_of_samples\": 20\n",
      "    },\n",
      "    \"optimization_iterations\": 20,\n",
      "    \"models\": {\n",
      "        \"model\": \"gaussian_process\"\n",
      "    },\n",
      "    \"feasible_output\": {\n",
      "        \"enable_feasible_predictor\": true\n",
      "    },\n",
      "    \"input_parameters\": {\n",
      "        \"x1\": {\n",
      "            \"parameter_type\": \"real\",\n",
      "            \"values\": [\n",
      "                -20,\n",
      "                20\n",
      "            ]\n",
      "        },\n",
      "        \"x2\": {\n",
      "            \"parameter_type\": \"real\",\n",
      "            \"values\": [\n",
      "                -20,\n",
      "                20\n",
      "            ]\n",
      "        }\n",
      "    }\n",
      "}\n"
     ]
    }
   ],
   "source": [
    "f = open(\"example_scenarios/demo/example_chakong_haimes_scenario.json\", \"r\")\n",
    "text = f.read()\n",
    "print(text, flush=True)\n",
    "f.close()"
   ]
  },
  {
   "cell_type": "markdown",
   "metadata": {},
   "source": [
    "### Run HyperMapper"
   ]
  },
  {
   "cell_type": "code",
   "execution_count": 26,
   "metadata": {
    "scrolled": false
   },
   "outputs": [
    {
     "name": "stdout",
     "output_type": "stream",
     "text": [
      "Design of experiment phase, number of doe samples = 20 .......\n",
      "x1,x2,f1_value,f2_value,Valid,Timestamp\n",
      "18.6844894287346,17.96673152794562,568.2421662389405,-119.70957388277247,False,5\n",
      "11.3818730615695,-11.434357908669648,244.6327987442989,-52.176399046769916,False,5\n",
      "-13.931727165684688,12.58823536337134,390.1071293187055,-259.67274332805226,False,5\n",
      "-4.515218152516564,8.699216008222244,103.72599471614701,-99.91489051391474,True,5\n",
      "14.705040782152963,8.087292747868474,213.64777977015905,82.1156485453876,False,5\n",
      "-10.560839667159655,-2.8464607663239754,174.5699535709611,-109.84281743130651,False,5\n",
      "-15.90734636181208,12.079476899427263,445.42786208684674,-265.92092562125106,False,5\n",
      "17.970785921607913,13.81567970180621,421.3076491731173,-2.5045729248165287,False,5\n",
      "-3.9728018826247826,-0.6340466883671461,40.344470908849786,-38.425325523386675,False,5\n",
      "10.0753271876562,-17.563928775335157,411.830360763416,-253.94150688681086,False,5\n",
      "6.467068238543288,-11.647291280178113,181.90867537347157,-101.75036257877973,False,5\n",
      "-3.345879379289425,-12.806410685004973,221.19540234093137,-220.7298904166243,False,5\n",
      "5.144191670974564,16.93794808406512,265.9041303941808,-207.72046409158395,False,5\n",
      "-9.27410594966609,-5.516661167102976,171.57233773112426,-125.93382631382273,False,5\n",
      "-6.115209676601568,-16.21666844353497,364.2703003898206,-351.450559384027,False,5\n",
      "-7.215782337377645,15.441873874650419,295.4983651012321,-273.5097620477091,False,5\n",
      "4.93656183444606,-12.421543051729529,190.7612132969544,-135.70876137941465,False,5\n",
      "17.295306399301367,-16.271205173532277,534.2409259947574,-142.63677055253578,False,5\n",
      "-5.89344686454546,17.33691895559724,331.20142436515505,-319.9359427426616,False,5\n",
      "14.03831288455742,4.726979243611154,160.81135138880956,112.45444167870842,False,5\n",
      "\n",
      "\n",
      "End of doe phase, the number of new configuration runs is: 20\n",
      "\n",
      "Starting optimization iteration 1\n",
      "x1,x2,f1_value,f2_value,Valid,Timestamp\n",
      "-3.97243533176022,0.817805929449861,37.70317847140144,-35.785112665185615,False,4919\n",
      "\n",
      "Starting optimization iteration 2\n",
      "x1,x2,f1_value,f2_value,Valid,Timestamp\n",
      "-4.449090800940175,-19.725266801237048,473.12745614122974,-469.5785011909201,False,9436\n",
      "\n",
      "Starting optimization iteration 3\n",
      "x1,x2,f1_value,f2_value,Valid,Timestamp\n",
      "-4.6223867801068295,-19.76641177041335,477.0998644836958,-472.8453388393235,False,14042\n",
      "\n",
      "Starting optimization iteration 4\n",
      "x1,x2,f1_value,f2_value,Valid,Timestamp\n",
      "0.24134521405785136,8.450785672959285,60.607073800492564,-53.34210021785468,True,19000\n",
      "\n",
      "Starting optimization iteration 5\n",
      "x1,x2,f1_value,f2_value,Valid,Timestamp\n",
      "2.3448743417921136,4.875337260367658,17.13717719322045,6.085630194535117,True,23926\n",
      "\n",
      "Starting optimization iteration 6\n",
      "x1,x2,f1_value,f2_value,Valid,Timestamp\n",
      "2.5528951341363957,8.329191220794023,56.022736980315884,-30.74098774373662,True,28734\n",
      "\n",
      "Starting optimization iteration 7\n",
      "x1,x2,f1_value,f2_value,Valid,Timestamp\n",
      "2.1596788632113864,8.210458205510985,54.01620487277718,-32.553597764518216,True,33870\n",
      "\n",
      "Starting optimization iteration 8\n",
      "x1,x2,f1_value,f2_value,Valid,Timestamp\n",
      "1.7814338815444657,4.856585892770816,16.921025896455593,1.1596501855813166,True,38955\n",
      "\n",
      "Starting optimization iteration 9\n",
      "x1,x2,f1_value,f2_value,Valid,Timestamp\n",
      "2.025154093428579,4.8488264919620825,16.814098093645363,3.412921475628062,True,43898\n",
      "\n",
      "Starting optimization iteration 10\n",
      "x1,x2,f1_value,f2_value,Valid,Timestamp\n",
      "2.1285031014917877,4.801509941807751,16.46799088475618,4.705050075762918,True,49090\n",
      "\n",
      "Starting optimization iteration 11\n",
      "x1,x2,f1_value,f2_value,Valid,Timestamp\n",
      "2.489812071805993,4.801509941807751,16.69139370335005,7.956830808590764,True,53906\n",
      "\n",
      "Starting optimization iteration 12\n",
      "x1,x2,f1_value,f2_value,Valid,Timestamp\n",
      "-4.969670373606274,-19.938303622404806,488.98886370073524,-483.1395919464667,False,59026\n",
      "\n",
      "Starting optimization iteration 13\n",
      "x1,x2,f1_value,f2_value,Valid,Timestamp\n",
      "2.217446981027912,2.0965180827173135,3.249635095284207,18.754670923525154,False,64447\n",
      "\n",
      "Starting optimization iteration 14\n",
      "x1,x2,f1_value,f2_value,Valid,Timestamp\n",
      "2.365755688136254,4.86033851835262,17.035990699680926,6.389587716949382,True,69866\n",
      "\n",
      "Starting optimization iteration 15\n",
      "x1,x2,f1_value,f2_value,Valid,Timestamp\n",
      "2.1334015833255364,4.8677645649271,16.97739871213948,4.241011520224109,True,74950\n",
      "\n",
      "Starting optimization iteration 16\n",
      "x1,x2,f1_value,f2_value,Valid,Timestamp\n",
      "1.88821501386127,4.826005489084004,16.650813885626963,2.3556171222505036,True,80056\n",
      "\n",
      "Starting optimization iteration 17\n",
      "x1,x2,f1_value,f2_value,Valid,Timestamp\n",
      "1.4665150165527407,4.801386237841967,16.73514355681803,-1.2519021802796395,True,84490\n",
      "\n",
      "Starting optimization iteration 18\n",
      "x1,x2,f1_value,f2_value,Valid,Timestamp\n",
      "-4.697518281765367,-19.946089587130675,485.59542012668544,-481.0163335279924,False,89943\n",
      "\n",
      "Starting optimization iteration 19\n",
      "x1,x2,f1_value,f2_value,Valid,Timestamp\n",
      "2.2470274255661593,4.8292854397925495,16.724449528389066,5.559819850688214,True,95253\n",
      "\n",
      "Starting optimization iteration 20\n",
      "x1,x2,f1_value,f2_value,Valid,Timestamp\n",
      "2.0562164758020565,4.773557771393978,16.24289854619949,4.266210028170621,True,100558\n",
      "\n",
      "End of Random Scalarizations\n",
      "### End of the hypermapper script.\n"
     ]
    }
   ],
   "source": [
    "hypermapper.optimize(\"example_scenarios/demo/example_chakong_haimes_scenario.json\", chakong_haimes)\n",
    "sys.stdout = stdout"
   ]
  },
  {
   "cell_type": "markdown",
   "metadata": {},
   "source": [
    "### Visualize Results\n",
    "We can visualize the optimization process using a Pareto front. \n",
    "\n",
    "The Pareto script computes the Pareto front considering only feasible points: "
   ]
  },
  {
   "cell_type": "code",
   "execution_count": 27,
   "metadata": {},
   "outputs": [
    {
     "data": {
      "text/html": [
       "\n",
       "        <iframe\n",
       "            width=\"1000\"\n",
       "            height=\"600\"\n",
       "            src=\"chakong_haimes_output_pareto.pdf\"\n",
       "            frameborder=\"0\"\n",
       "            allowfullscreen\n",
       "        ></iframe>\n",
       "        "
      ],
      "text/plain": [
       "<IPython.lib.display.IFrame at 0x7f7db1497340>"
      ]
     },
     "execution_count": 27,
     "metadata": {},
     "output_type": "execute_result"
    }
   ],
   "source": [
    "!!python3 scripts/compute_pareto.py \"example_scenarios/demo/example_chakong_haimes_scenario.json\"\n",
    "!!python3 scripts/plot_dse.py \"example_scenarios/demo/example_chakong_haimes_scenario.json\" \"example_scenarios/demo/chakong_haimes_output_pareto.pdf\"\n",
    "IFrame(\"chakong_haimes_output_pareto.pdf\", width=1000, height=600)"
   ]
  },
  {
   "cell_type": "code",
   "execution_count": null,
   "metadata": {},
   "outputs": [],
   "source": []
  }
 ],
 "metadata": {
  "kernelspec": {
   "display_name": "Python 3",
   "language": "python",
   "name": "python3"
  },
  "language_info": {
   "codemirror_mode": {
    "name": "ipython",
    "version": 3
   },
   "file_extension": ".py",
   "mimetype": "text/x-python",
   "name": "python",
   "nbconvert_exporter": "python",
   "pygments_lexer": "ipython3",
   "version": "3.8.2"
  }
 },
 "nbformat": 4,
 "nbformat_minor": 2
}
